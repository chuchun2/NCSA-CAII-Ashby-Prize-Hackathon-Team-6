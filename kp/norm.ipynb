{
 "cells": [
  {
   "cell_type": "code",
   "execution_count": 2,
   "id": "a98bc236-e7c4-4cbd-8ae3-29d3c46f239d",
   "metadata": {},
   "outputs": [],
   "source": [
    "import numpy as np\n",
    "import xarray as xr\n",
    "import pandas as pd\n",
    "import matplotlib.pyplot as plt\n",
    "import seaborn as sns"
   ]
  },
  {
   "cell_type": "code",
   "execution_count": 3,
   "id": "2c6cad94-aecc-4eaf-b085-463c893322b5",
   "metadata": {},
   "outputs": [],
   "source": [
    "y_name = ['ccn_001',\n",
    " 'ccn_003',\n",
    " 'ccn_006',\n",
    " 'CHI',\n",
    " 'CHI_CCN',\n",
    " 'D_ALPHA',\n",
    " 'D_GAMMA',\n",
    " 'D_ALPHA_CCN',\n",
    " 'D_GAMMA_CCN',\n",
    " 'PM25']"
   ]
  },
  {
   "cell_type": "code",
   "execution_count": 4,
   "id": "27ca7386-fc4f-488a-bb68-63017bbe9b7a",
   "metadata": {},
   "outputs": [],
   "source": [
    "x_name = ['TOT_NUM_CONC',\n",
    " 'TOT_MASS_CONC',\n",
    " 'pmc_SO4',\n",
    " 'pmc_NO3',\n",
    " 'pmc_Cl',\n",
    " 'pmc_NH4',\n",
    " 'pmc_ARO1',\n",
    " 'pmc_ARO2',\n",
    " 'pmc_ALK1',\n",
    " 'pmc_OLE1',\n",
    " 'pmc_API1',\n",
    " 'pmc_API2',\n",
    " 'pmc_LIM1',\n",
    " 'pmc_LIM2',\n",
    " 'pmc_OC',\n",
    " 'pmc_BC',\n",
    " 'pmc_H2O',\n",
    " 'TEMPERATURE',\n",
    " 'REL_HUMID',\n",
    " 'ALT',\n",
    " 'Z',\n",
    " 'XLAT',\n",
    " 'XLONG',\n",
    " 'h2so4',\n",
    " 'hno3',\n",
    " 'hcl',\n",
    " 'nh3',\n",
    " 'no',\n",
    " 'no2',\n",
    " 'no3',\n",
    " 'n2o5',\n",
    " 'hono',\n",
    " 'hno4',\n",
    " 'o3',\n",
    " 'o1d',\n",
    " 'O3P',\n",
    " 'oh',\n",
    " 'ho2',\n",
    " 'h2o2',\n",
    " 'co',\n",
    " 'so2',\n",
    " 'ch4',\n",
    " 'c2h6',\n",
    " 'ch3o2',\n",
    " 'ethp',\n",
    " 'hcho',\n",
    " 'ch3oh',\n",
    " 'ANOL',\n",
    " 'ch3ooh',\n",
    " 'ETHOOH',\n",
    " 'ald2',\n",
    " 'hcooh',\n",
    " 'RCOOH',\n",
    " 'c2o3',\n",
    " 'pan',\n",
    " 'aro1',\n",
    " 'aro2',\n",
    " 'alk1',\n",
    " 'ole1',\n",
    " 'api1',\n",
    " 'api2',\n",
    " 'lim1',\n",
    " 'lim2',\n",
    " 'par',\n",
    " 'AONE',\n",
    " 'mgly',\n",
    " 'eth',\n",
    " 'OLET',\n",
    " 'OLEI',\n",
    " 'tol',\n",
    " 'xyl',\n",
    " 'cres',\n",
    " 'to2',\n",
    " 'cro',\n",
    " 'open',\n",
    " 'onit',\n",
    " 'rooh',\n",
    " 'ro2',\n",
    " 'ano2',\n",
    " 'nap',\n",
    " 'xo2',\n",
    " 'xpar',\n",
    " 'isop',\n",
    " 'isoprd',\n",
    " 'isopp',\n",
    " 'isopn',\n",
    " 'isopo2',\n",
    " 'api',\n",
    " 'lim',\n",
    " 'dms',\n",
    " 'msa',\n",
    " 'dmso',\n",
    " 'dmso2',\n",
    " 'ch3so2h',\n",
    " 'ch3sch2oo',\n",
    " 'ch3so2',\n",
    " 'ch3so3',\n",
    " 'ch3so2oo',\n",
    " 'ch3so2ch2oo',\n",
    " 'SULFHOX',\n",
    " 'P',\n",
    " 'PB',\n",
    " 'cos(Time)']"
   ]
  },
  {
   "cell_type": "code",
   "execution_count": 5,
   "id": "892bc011-f3d6-44bc-b0ad-2398d7bfc196",
   "metadata": {},
   "outputs": [],
   "source": [
    "targ_norm_4d = np.zeros((10, 39, 133, 159, 169)) * np.nan\n",
    "targ_norm = np.zeros((10, 39*133*159*169)) * np.nan\n",
    "targ_mean = np.zeros((10, 39)) * np.nan\n",
    "targ_std = np.zeros((10, 39)) * np.nan\n",
    "\n",
    "for iy in range(len(y_name)):\n",
    "    for iz in range(39):\n",
    "        ds = xr.open_dataset(\"/home/chuchun2/hackathon_data/training.nc\").sel(bottom_top=iz)\n",
    "\n",
    "        y = ds[y_name[iy]]  #.values.flatten()\n",
    "        y_max = y.max()\n",
    "        y_min = np.where(y == 0, y_max, y).min()  # min of the non-zero values\n",
    "        y_new = np.where(y == 0, y_min, y)  # replace 0 with min of the non-zero values\n",
    "        y_log = np.log(y_new)\n",
    "        targ_mean[iy, iz] = np.mean(y_log)\n",
    "        targ_std[iy, iz] = y_log.std()\n",
    "        targ_norm_4d[iy, iz, :, :, :] = (y_log - targ_mean[iy, iz]) / targ_std[iy, iz]\n",
    "    \n",
    "    targ_norm[iy, :] = targ_norm_4d[iy, :, :, :].flatten()\n",
    "    "
   ]
  },
  {
   "cell_type": "code",
   "execution_count": null,
   "id": "b985c5e6-e0cf-4fb9-98f9-7a2e097ed6f3",
   "metadata": {},
   "outputs": [],
   "source": []
  },
  {
   "cell_type": "code",
   "execution_count": 37,
   "id": "d2e24777-42b7-474a-86ab-f5bfc48b02c4",
   "metadata": {},
   "outputs": [],
   "source": [
    "# plt.hist(targ_norm_4d[:, 0, :, :].flatten())"
   ]
  },
  {
   "cell_type": "code",
   "execution_count": 9,
   "id": "570fba66-d25a-4208-a96d-0a0bc9c44223",
   "metadata": {},
   "outputs": [],
   "source": [
    "np.save('targ_norm_4d.npy',targ_norm_4d)"
   ]
  },
  {
   "cell_type": "code",
   "execution_count": 10,
   "id": "061821f8-a934-4a1d-bdc8-2ca3fcdf6d67",
   "metadata": {},
   "outputs": [],
   "source": [
    "np.save('targ_norm_flatten.npy',targ_norm)"
   ]
  },
  {
   "cell_type": "code",
   "execution_count": 11,
   "id": "cb8be2c8-94d6-4e82-8b3c-c64d94a8bdcc",
   "metadata": {},
   "outputs": [],
   "source": [
    "np.save('targ_mean.npy',targ_mean)"
   ]
  },
  {
   "cell_type": "code",
   "execution_count": 12,
   "id": "9dcad43c-bc30-4abe-828c-17deb34df99e",
   "metadata": {},
   "outputs": [],
   "source": [
    "np.save('targ_std.npy',targ_std)"
   ]
  },
  {
   "cell_type": "code",
   "execution_count": 13,
   "id": "962953cd-c3c8-4fe3-ac7f-e37601c07f7f",
   "metadata": {},
   "outputs": [],
   "source": [
    "targ_norm_t = np.zeros((10, 39*159*169)) * np.nan\n",
    "\n",
    "for it in range(133):\n",
    "    targ_norm_t = targ_norm_4d[:, :, it, :, :].flatten()\n",
    "    np.save('norm_data_timesteps_targ/'+str(it)+'targ_norm.npy',targ_norm_t)\n",
    "    "
   ]
  },
  {
   "cell_type": "code",
   "execution_count": 5,
   "id": "a4b0ef9d-412e-4add-b870-382925e42a0b",
   "metadata": {},
   "outputs": [],
   "source": [
    "feat_mean=np.load('feat_mean.npy')"
   ]
  },
  {
   "cell_type": "code",
   "execution_count": null,
   "id": "2a6c7172-f1d0-4c16-be7d-1c76241e5121",
   "metadata": {},
   "outputs": [],
   "source": [
    "feat_mean"
   ]
  },
  {
   "cell_type": "code",
   "execution_count": 6,
   "id": "0211597d-791c-4651-b9eb-78dc161abf4f",
   "metadata": {},
   "outputs": [],
   "source": [
    "feat_std=np.load('feat_std.npy')"
   ]
  },
  {
   "cell_type": "code",
   "execution_count": 7,
   "id": "1d02058b-c6d5-483a-be7f-699f205a2382",
   "metadata": {},
   "outputs": [],
   "source": [
    "# 102 features + cos(time)\n",
    "feat_norm_4d = np.zeros((103, 39, 159, 169)) * np.nan\n",
    "feat_norm_t = np.zeros((39*159*169,103)) * np.nan\n",
    "# feat_norm = np.zeros((103, 39*133*159*169)) * np.nan\n",
    "#feat_mean = np.zeros((103, 39)) * np.nan\n",
    "#feat_std = np.zeros((103, 39)) * np.nan\n"
   ]
  },
  {
   "cell_type": "code",
   "execution_count": 8,
   "id": "05a48170-0ba6-4c1d-b671-41328a4de83a",
   "metadata": {},
   "outputs": [],
   "source": [
    "new_time=np.array([ 1.00000000e+00,  9.99048222e-01,  9.96194698e-01,  9.91444861e-01,\n",
    "        9.84807753e-01,  9.76296007e-01,  9.65925826e-01,  9.53716951e-01,\n",
    "        9.39692621e-01,  9.23879533e-01,  9.06307787e-01,  8.87010833e-01,\n",
    "        8.66025404e-01,  8.43391446e-01,  8.19152044e-01,  7.93353340e-01,\n",
    "        7.66044443e-01,  7.37277337e-01,  7.07106781e-01,  6.75590208e-01,\n",
    "        6.42787610e-01,  6.08761429e-01,  5.73576436e-01,  5.37299608e-01,\n",
    "        5.00000000e-01,  4.61748613e-01,  4.22618262e-01,  3.82683432e-01,\n",
    "        3.42020143e-01,  3.00705799e-01,  2.58819045e-01,  2.16439614e-01,\n",
    "        1.73648178e-01,  1.30526192e-01,  8.71557428e-02,  4.36193874e-02,\n",
    "        6.12323400e-17, -4.36193874e-02, -8.71557428e-02, -1.30526192e-01,\n",
    "       -1.73648178e-01, -2.16439614e-01, -2.58819045e-01, -3.00705799e-01,\n",
    "       -3.42020143e-01, -3.82683432e-01, -4.22618262e-01, -4.61748613e-01,\n",
    "       -5.00000000e-01, -5.37299608e-01, -5.73576436e-01, -6.08761429e-01,\n",
    "       -6.42787610e-01, -6.75590208e-01, -7.07106781e-01, -7.37277337e-01,\n",
    "       -7.66044443e-01, -7.93353340e-01, -8.19152044e-01, -8.43391446e-01,\n",
    "       -8.66025404e-01, -8.87010833e-01, -9.06307787e-01, -9.23879533e-01,\n",
    "       -9.39692621e-01, -9.53716951e-01, -9.65925826e-01, -9.76296007e-01,\n",
    "       -9.84807753e-01, -9.91444861e-01, -9.96194698e-01, -9.99048222e-01,\n",
    "       -1.00000000e+00, -9.99048222e-01, -9.96194698e-01, -9.91444861e-01,\n",
    "       -9.84807753e-01, -9.76296007e-01, -9.65925826e-01, -9.53716951e-01,\n",
    "       -9.39692621e-01, -9.23879533e-01, -9.06307787e-01, -8.87010833e-01,\n",
    "       -8.66025404e-01, -8.43391446e-01, -8.19152044e-01, -7.93353340e-01,\n",
    "       -7.66044443e-01, -7.37277337e-01, -7.07106781e-01, -6.75590208e-01,\n",
    "       -6.42787610e-01, -6.08761429e-01, -5.73576436e-01, -5.37299608e-01,\n",
    "       -2.58819045e-01, -2.16439614e-01, -1.73648178e-01, -1.30526192e-01,\n",
    "       -8.71557428e-02, -4.36193874e-02, -1.83697020e-16,  4.36193874e-02,\n",
    "        8.71557428e-02,  1.30526192e-01,  1.73648178e-01,  2.16439614e-01,\n",
    "        2.58819045e-01,  3.00705799e-01,  3.42020143e-01,  3.82683432e-01,\n",
    "        4.22618262e-01,  4.61748613e-01,  5.00000000e-01,  5.37299608e-01,\n",
    "        5.73576436e-01,  6.08761429e-01,  6.42787610e-01,  6.75590208e-01,\n",
    "        8.66025404e-01,  8.87010833e-01,  9.06307787e-01,  9.23879533e-01,\n",
    "        9.39692621e-01,  9.53716951e-01,  9.65925826e-01,  9.76296007e-01,\n",
    "        9.84807753e-01,  9.91444861e-01,  9.96194698e-01,  9.99048222e-01,\n",
    "        1.00000000e+00])"
   ]
  },
  {
   "cell_type": "code",
   "execution_count": null,
   "id": "bc065c34-e06e-4eed-817e-ebd860ea9c29",
   "metadata": {},
   "outputs": [
    {
     "name": "stdout",
     "output_type": "stream",
     "text": [
      "Time step:31\n",
      "Time step:32\n",
      "Time step:33\n",
      "Time step:34\n"
     ]
    }
   ],
   "source": [
    "ft_mean_p=10.31601\n",
    "ft_std_p=0.9260424\n",
    "ft_mean_pb=10.305028\n",
    "ft_std_pb=0.92249596\n",
    "ft_mean_alt=0.84901726\n",
    "ft_std_alt=0.8125616\n",
    "ft_mean_z=8953.694\n",
    "ft_std_z=6434.8677\n",
    "\n",
    "for it in range(31,133):\n",
    "    print('Time step:'+str(it))\n",
    "    ds = xr.open_dataset(\"training.nc\").sel(Time=it)\n",
    "    for ix in range(len(x_name)):\n",
    "        for iz in range(39):            \n",
    "            if (ix < len(x_name)-1) and (x_name[ix] != 'Z') and (x_name[ix]!='ALT') and (x_name[ix]!='P') and (x_name[ix]!='PB') and (x_name[ix]!='XLAT') and (x_name[ix]!='XLONG'):\n",
    "                #print(x_name[ix])\n",
    "                x = ds.sel(bottom_top=iz)\n",
    "                x_new=x[x_name[ix]]\n",
    "                x_max = x_new.max()\n",
    "                x_min = np.where(x_new == 0, x_max, x_new).min()\n",
    "                x_n = np.where(x_new == 0, x_min, x_new)\n",
    "                x_log = np.log(x_n)\n",
    "                feat_norm_4d[ix,iz,:,:]=(x_log - feat_mean[ix,iz])/feat_std[ix,iz]\n",
    "            if (x_name[ix]=='PB') :\n",
    "                #print(x_name[ix])\n",
    "                x = ds.sel(bottom_top=iz)\n",
    "                x_new=x[x_name[ix]]\n",
    "                x_max = x_new.max()\n",
    "                x_min = np.where(x_new == 0, x_max, x_new).min()\n",
    "                x_n = np.where(x_new == 0, x_min, x_new)\n",
    "                x_log = np.log(x_n)\n",
    "                feat_norm_4d[ix,iz,:,:]=(x_log - ft_mean_pb)/ft_std_pb\n",
    "            if (x_name[ix]=='ALT') :\n",
    "                #print(x_name[ix])\n",
    "                x = ds.sel(bottom_top=iz)\n",
    "                x_new=x[x_name[ix]]\n",
    "                x_max = x_new.max()\n",
    "                x_min = np.where(x_new == 0, x_max, x_new).min()\n",
    "                x_n = np.where(x_new == 0, x_min, x_new)\n",
    "                x_log = np.log(x_n)\n",
    "                feat_norm_4d[ix,iz,:,:]=(x_log - ft_mean_alt)/ft_std_alt\n",
    "            if (x_name[ix]=='P'):\n",
    "                #print(x_name[ix])\n",
    "                x = ds.sel(bottom_top=iz)\n",
    "                x_new=x[x_name[ix]]\n",
    "                x_add=x_new+x['PB']\n",
    "                #print(x_add.shape)\n",
    "                #x_max = x_add.max()\n",
    "                #x_min = np.where(x_add == 0, x_max, x_add).min()\n",
    "                #x_n = np.where(x_add == 0, x_min, x_add)\n",
    "                x_log = np.log(x_add)\n",
    "                #print(x_log)\n",
    "                feat_norm_4d[ix,iz,:,:]=(x_log - ft_mean_p)/ft_std_p     \n",
    "                #print((x_log - ft_mean_p)/ft_std_p)\n",
    "            if (x_name[ix]=='Z'):\n",
    "                #print(x_name[ix])\n",
    "                x = ds.sel(bottom_top=iz)\n",
    "                x_new=x[x_name[ix]]\n",
    "                feat_norm_4d[ix,iz,:,:]=(x_new - ft_mean_z)/ft_std_z\n",
    "            if (x_name[ix]=='XLAT') or (x_name[ix]=='XLONG'):\n",
    "                #print(x_name[ix])\n",
    "                x = ds.sel(bottom_top=iz)\n",
    "                x_new=x[x_name[ix]]\n",
    "                #x_max = x_new.max()\n",
    "                #x_min = np.where(x_new == 0, x_max, x_new).min()\n",
    "                #x_n = np.where(x_new == 0, x_min, x_new)\n",
    "                #x_log = np.log(x_n)\n",
    "                feat_norm_4d[ix,iz,:,:]=x_new\n",
    "                \n",
    "        if ix == 102:\n",
    "            feat_norm_4d[ix,:,:,:]=new_time[it]\n",
    "    feat_norm_t=feat_norm_4d[:, :, :, :].flatten().reshape(103,-1).transpose()\n",
    "    np.save('norm_data_timesteps_feat/'+str(it)+'feat_norm.npy',feat_norm_t)\n",
    "        \n"
   ]
  },
  {
   "cell_type": "code",
   "execution_count": 34,
   "id": "5f84393f-c81b-468e-b551-e30a809392b4",
   "metadata": {},
   "outputs": [],
   "source": [
    "np.save('norm_data_timesteps_feat/x_name.npy',x_name)"
   ]
  },
  {
   "cell_type": "code",
   "execution_count": 35,
   "id": "26a64fa8-cb06-4d10-903f-8089672ed469",
   "metadata": {},
   "outputs": [],
   "source": [
    "np.save('norm_data_timesteps_targ/y_name.npy',y_name)"
   ]
  },
  {
   "cell_type": "code",
   "execution_count": null,
   "id": "48de7884-bd2f-46a7-9d50-073b6013c7db",
   "metadata": {},
   "outputs": [],
   "source": [
    "for ix in range(len(x_name)-1):\n",
    "    for iz in range(39):\n",
    "        ds = xr.open_dataset(\"/home/chuchun2/hackathon_data/training.nc\").sel(bottom_top=iz)\n",
    "        x = ds[x_name[ix]]  #.values.flatten()\n",
    "        x_max = x.max()\n",
    "        x_min = np.where(x == 0, x_max, x).min()\n",
    "        x_new = np.where(x == 0, x_min, x)\n",
    "        x_log = np.log(x_new)\n",
    "        feat_mean[ix, iz] = np.mean(x_log)\n",
    "        feat_std[ix, iz] = x_log.std()"
   ]
  },
  {
   "cell_type": "code",
   "execution_count": null,
   "id": "bc4621c0-353e-45e6-be92-0d7a87d7d6f1",
   "metadata": {},
   "outputs": [],
   "source": []
  },
  {
   "cell_type": "code",
   "execution_count": null,
   "id": "5ae6bacb-e147-4784-b2cc-0adf9d06abe3",
   "metadata": {},
   "outputs": [],
   "source": []
  },
  {
   "cell_type": "code",
   "execution_count": null,
   "id": "1148b29b-7308-4120-a28d-c5cfce3f0830",
   "metadata": {},
   "outputs": [],
   "source": []
  },
  {
   "cell_type": "code",
   "execution_count": null,
   "id": "5ed5b5c4-53f1-4c55-909b-e185872f8c26",
   "metadata": {},
   "outputs": [],
   "source": []
  },
  {
   "cell_type": "code",
   "execution_count": null,
   "id": "86ec60f3-4db8-47e3-b1e9-cb144f00776f",
   "metadata": {},
   "outputs": [],
   "source": []
  }
 ],
 "metadata": {
  "kernelspec": {
   "display_name": "local-jup",
   "language": "python",
   "name": "local-jup"
  },
  "language_info": {
   "codemirror_mode": {
    "name": "ipython",
    "version": 3
   },
   "file_extension": ".py",
   "mimetype": "text/x-python",
   "name": "python",
   "nbconvert_exporter": "python",
   "pygments_lexer": "ipython3",
   "version": "3.9.12"
  }
 },
 "nbformat": 4,
 "nbformat_minor": 5
}
