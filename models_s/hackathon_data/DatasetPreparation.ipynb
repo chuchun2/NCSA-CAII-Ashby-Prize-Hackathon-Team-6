{
 "cells": [
  {
   "cell_type": "code",
   "execution_count": 1,
   "id": "648dc6b0-2321-49bd-b7a4-ab037e69ff16",
   "metadata": {},
   "outputs": [],
   "source": [
    "import numpy as np\n",
    "from netCDF4 import Dataset\n",
    "import cartopy\n",
    "import matplotlib.pyplot as plt\n",
    "import matplotlib.colors as colors\n",
    "import wrf"
   ]
  },
  {
   "cell_type": "code",
   "execution_count": 2,
   "id": "8ecbfc96-5c42-4d22-bd79-fc12700ef71e",
   "metadata": {},
   "outputs": [],
   "source": [
    "import torch"
   ]
  },
  {
   "cell_type": "code",
   "execution_count": 3,
   "id": "3f05ce66-b8b8-48e1-adb2-9b15f5a718e2",
   "metadata": {},
   "outputs": [
    {
     "data": {
      "text/plain": [
       "'1.10.2'"
      ]
     },
     "execution_count": 3,
     "metadata": {},
     "output_type": "execute_result"
    }
   ],
   "source": [
    "torch.__version__"
   ]
  },
  {
   "cell_type": "code",
   "execution_count": 4,
   "id": "f6257dab-acae-48c5-8775-5ddfc2c77756",
   "metadata": {},
   "outputs": [],
   "source": [
    "# Load netcdf file\n",
    "data_dir = './'\n",
    "wrf_filename = '%straining.nc' % data_dir\n",
    "ncf = Dataset(wrf_filename, \"r\", format=\"NETCDF4\")"
   ]
  },
  {
   "cell_type": "code",
   "execution_count": 5,
   "id": "7dd21535-3ef3-4808-b918-684f0a8cc090",
   "metadata": {},
   "outputs": [],
   "source": [
    "target_cols = [\n",
    "    'ccn_001',\n",
    "     'ccn_003',\n",
    "     'ccn_006',\n",
    "     'CHI',\n",
    "     'CHI_CCN',\n",
    "     'D_ALPHA',\n",
    "     'D_GAMMA',\n",
    "     'D_ALPHA_CCN',\n",
    "     'D_GAMMA_CCN',\n",
    "     'PM25'\n",
    "]"
   ]
  },
  {
   "cell_type": "code",
   "execution_count": 6,
   "id": "98810a4a-6a53-4c62-a942-55583c3c76da",
   "metadata": {},
   "outputs": [],
   "source": [
    "#https://discuss.pytorch.org/t/how-to-use-netcdf-data-for-dcgan/124870/3?msclkid=560cbb7ec28511ec8730e27933a5095c\n",
    "# https://discuss.pytorch.org/t/problems-using-dataloader-for-dask-xarray-netcdf-data/108270\n",
    "class AEDataset(torch.utils.data.Dataset):\n",
    "    def __init__(self,filename,target):\n",
    "        super().__init__()\n",
    "        self.ncf = Dataset(filename, \"r\", format=\"NETCDF4\")\n",
    "        self.target = target\n",
    "    def __getitem__(self,idx):\n",
    "        out = np.zeros((1, len(self.target)))\n",
    "        for i,t in enumerate(self.target):\n",
    "            out[:,i] = self.ncf[t][0,idx,0,0]\n",
    "        return out\n",
    "    def __len__(self):\n",
    "        return 132"
   ]
  },
  {
   "cell_type": "code",
   "execution_count": 8,
   "id": "fb4ac6ac-0f03-412d-95be-a3a514f50d5e",
   "metadata": {},
   "outputs": [],
   "source": [
    "with open('x_gases.txt', 'r') as f:\n",
    "    gases = f.read().splitlines() \n",
    "\n",
    "with open('x_aerosols.txt', 'r') as f:\n",
    "    aerosols = f.read().splitlines() "
   ]
  },
  {
   "cell_type": "code",
   "execution_count": 9,
   "id": "423d0d4a-03bf-4cd7-971b-6f9ff54065a8",
   "metadata": {},
   "outputs": [],
   "source": [
    "ds = AEDataset(wrf_filename, gases)"
   ]
  },
  {
   "cell_type": "code",
   "execution_count": 10,
   "id": "e6268044-653c-426c-ba0f-8c9e21cf2e01",
   "metadata": {},
   "outputs": [],
   "source": [
    "from torch.utils.data import DataLoader"
   ]
  },
  {
   "cell_type": "code",
   "execution_count": 11,
   "id": "129255aa-3162-4e1c-9218-0ec49dd315cd",
   "metadata": {},
   "outputs": [],
   "source": [
    "dl = DataLoader(ds, batch_size=32)"
   ]
  },
  {
   "cell_type": "code",
   "execution_count": 12,
   "id": "e37e1c65-6ab9-4c56-9dae-05faed63701a",
   "metadata": {},
   "outputs": [
    {
     "name": "stdout",
     "output_type": "stream",
     "text": [
      "706 ms ± 20.3 ms per loop (mean ± std. dev. of 7 runs, 1 loop each)\n"
     ]
    }
   ],
   "source": [
    "%%timeit\n",
    "next(iter(dl))"
   ]
  },
  {
   "cell_type": "code",
   "execution_count": null,
   "id": "ea1cf157-6bb5-412b-b7a9-8139d0cc41aa",
   "metadata": {},
   "outputs": [],
   "source": [
    "\n",
    "\n"
   ]
  },
  {
   "cell_type": "code",
   "execution_count": 13,
   "id": "c65972c7-5727-4657-9fd6-12b4eb5931da",
   "metadata": {},
   "outputs": [],
   "source": [
    "from torch.utils.data import TensorDataset"
   ]
  },
  {
   "cell_type": "code",
   "execution_count": 14,
   "id": "05fc2c65-2b4d-46e8-8a1e-d338f90f59b5",
   "metadata": {},
   "outputs": [
    {
     "ename": "NameError",
     "evalue": "name 'x' is not defined",
     "output_type": "error",
     "traceback": [
      "\u001b[0;31m---------------------------------------------------------------------------\u001b[0m",
      "\u001b[0;31mNameError\u001b[0m                                 Traceback (most recent call last)",
      "Input \u001b[0;32mIn [14]\u001b[0m, in \u001b[0;36m<cell line: 1>\u001b[0;34m()\u001b[0m\n\u001b[0;32m----> 1\u001b[0m ds \u001b[38;5;241m=\u001b[39m TensorDataset(\u001b[43mx\u001b[49m)\n",
      "\u001b[0;31mNameError\u001b[0m: name 'x' is not defined"
     ]
    }
   ],
   "source": [
    "ds = TensorDataset(x)"
   ]
  },
  {
   "cell_type": "code",
   "execution_count": 16,
   "id": "32a967b2-a362-4a2f-961a-c9932af8a2a9",
   "metadata": {},
   "outputs": [],
   "source": []
  },
  {
   "cell_type": "markdown",
   "id": "11e3cc22-e949-49f7-be15-265a27adc5e8",
   "metadata": {},
   "source": [
    "# Indexer"
   ]
  },
  {
   "cell_type": "code",
   "execution_count": 22,
   "id": "aa716a5c-0a76-48d6-9f92-db07c0b68985",
   "metadata": {},
   "outputs": [],
   "source": [
    "class Indexer:\n",
    "    def __init__(self, ndims):\n",
    "        self.ndims = ndims\n",
    "    def idx4(self, a):\n",
    "        t, k, j, i = a\n",
    "        nt, nz, ny, nx = self.ndims\n",
    "        return ((nz*t + k)*ny + j)*nx + i\n",
    "    def inverse4(self, ix):\n",
    "        nt, nz, ny, nx = self.ndims\n",
    "        total = nz*ny*nx\n",
    "        t = ix// total\n",
    "        ix = ix % total\n",
    "        \n",
    "        total = ny*nx\n",
    "        k = ix // total\n",
    "        ix = ix % total\n",
    "        \n",
    "        total = nx\n",
    "        j = ix//total\n",
    "        i = ix % total\n",
    "        return (t,k,j,i)\n",
    "idxer = Indexer(ncf.variables['ccn_001'].shape)"
   ]
  },
  {
   "cell_type": "code",
   "execution_count": 25,
   "id": "87664e0b-3247-45fa-b917-d305cb8b6f7b",
   "metadata": {},
   "outputs": [
    {
     "data": {
      "text/plain": [
       "(133, 39, 159, 169)"
      ]
     },
     "execution_count": 25,
     "metadata": {},
     "output_type": "execute_result"
    }
   ],
   "source": [
    "ncf.variables['ccn_001'].shape"
   ]
  },
  {
   "cell_type": "code",
   "execution_count": 27,
   "id": "0fb5a0e6-0b8a-4528-9c4f-4b1a63e3251f",
   "metadata": {},
   "outputs": [
    {
     "data": {
      "text/plain": [
       "20959380"
      ]
     },
     "execution_count": 27,
     "metadata": {},
     "output_type": "execute_result"
    }
   ],
   "source": [
    "# 20 timesteps\n",
    "NMAX = 20 * 39 * 159 * 169\n",
    "\n",
    "NMAX"
   ]
  },
  {
   "cell_type": "code",
   "execution_count": 7,
   "id": "1aeff17a-9b70-4fce-9bc8-77763dbcc80a",
   "metadata": {},
   "outputs": [],
   "source": [
    "feat_cols = ['TOT_NUM_CONC',\n",
    " 'TOT_MASS_CONC',\n",
    " 'pmc_SO4',\n",
    " 'pmc_NO3',\n",
    " 'pmc_Cl',\n",
    " 'pmc_NH4',\n",
    " 'pmc_ARO1',\n",
    " 'pmc_ARO2',\n",
    " 'pmc_ALK1',\n",
    " 'pmc_OLE1',\n",
    " 'pmc_API1',\n",
    " 'pmc_API2',\n",
    " 'pmc_LIM1',\n",
    " 'pmc_LIM2',\n",
    " 'pmc_OC',\n",
    " 'pmc_BC',\n",
    " 'pmc_H2O',\n",
    " 'TEMPERATURE',\n",
    " 'REL_HUMID',\n",
    " 'ALT',\n",
    " 'Z',\n",
    "#  'XLAT',\n",
    "#  'XLONG',\n",
    " 'h2so4',\n",
    " 'hno3',\n",
    " 'hcl',\n",
    " 'nh3',\n",
    " 'no',\n",
    " 'no2',\n",
    " 'no3',\n",
    " 'n2o5',\n",
    " 'hono',\n",
    " 'hno4',\n",
    " 'o3',\n",
    " 'o1d',\n",
    " 'O3P',\n",
    " 'oh',\n",
    " 'ho2',\n",
    " 'h2o2',\n",
    " 'co',\n",
    " 'so2',\n",
    " 'ch4',\n",
    " 'c2h6',\n",
    " 'ch3o2',\n",
    " 'ethp',\n",
    " 'hcho',\n",
    " 'ch3oh',\n",
    " 'ANOL',\n",
    " 'ch3ooh',\n",
    " 'ETHOOH',\n",
    " 'ald2',\n",
    " 'hcooh',\n",
    " 'RCOOH',\n",
    " 'c2o3',\n",
    " 'pan',\n",
    " 'aro1',\n",
    " 'aro2',\n",
    " 'alk1',\n",
    " 'ole1',\n",
    " 'api1',\n",
    " 'api2',\n",
    " 'lim1',\n",
    " 'lim2',\n",
    " 'par',\n",
    " 'AONE',\n",
    " 'mgly',\n",
    " 'eth',\n",
    " 'OLET',\n",
    " 'OLEI',\n",
    " 'tol',\n",
    " 'xyl',\n",
    " 'cres',\n",
    " 'to2',\n",
    " 'cro',\n",
    " 'open',\n",
    " 'onit',\n",
    " 'rooh',\n",
    " 'ro2',\n",
    " 'ano2',\n",
    " 'nap',\n",
    " 'xo2',\n",
    " 'xpar',\n",
    " 'isop',\n",
    " 'isoprd',\n",
    " 'isopp',\n",
    " 'isopn',\n",
    " 'isopo2',\n",
    " 'api',\n",
    " 'lim',\n",
    " 'dms',\n",
    " 'msa',\n",
    " 'dmso',\n",
    " 'dmso2',\n",
    " 'ch3so2h',\n",
    " 'ch3sch2oo',\n",
    " 'ch3so2',\n",
    " 'ch3so3',\n",
    " 'ch3so2oo',\n",
    " 'ch3so2ch2oo',\n",
    " 'SULFHOX',\n",
    " 'P',\n",
    " 'PB']"
   ]
  },
  {
   "cell_type": "code",
   "execution_count": 8,
   "id": "1a0eafa8-8bd1-4060-bb9b-8a842bc1c7ff",
   "metadata": {},
   "outputs": [],
   "source": [
    "class RegDataset(torch.utils.data.Dataset):\n",
    "    def __init__(self,filename,features,target):\n",
    "        super().__init__()\n",
    "        self.ncf = Dataset(filename, \"r\", format=\"NETCDF4\")\n",
    "        self.target = target\n",
    "        self.feat   = features\n",
    "        self.ixer   = idxer = Indexer(ncf.variables['ccn_001'].shape)\n",
    "        \n",
    "    def __getitem__(self,idx):\n",
    "        ix4 = self.ixer.inverse4(idx)\n",
    "#         print(ix4)\n",
    "        feat= np.zeros((1, len(self.feat)))\n",
    "        for i,t in enumerate(self.feat):\n",
    "            feat[:,i] = self.ncf[t][ix4]\n",
    "        \n",
    "        out = np.zeros((1, len(self.target)))\n",
    "        for i,t in enumerate(self.target):\n",
    "            out[:,i] = self.ncf[t][ix4]\n",
    "        return feat, out\n",
    "    def __len__(self):\n",
    "        return NMAX"
   ]
  },
  {
   "cell_type": "code",
   "execution_count": 9,
   "id": "6e8ff04f-b5eb-4ca1-9f6c-327424cb365c",
   "metadata": {},
   "outputs": [],
   "source": [
    "class RegDataset(torch.utils.data.Dataset):\n",
    "    def __init__(self,filename,features,target):\n",
    "        super().__init__()\n",
    "        self.ncf = Dataset(filename, \"r\", format=\"NETCDF4\")\n",
    "        self.target = target\n",
    "        self.feat   = features\n",
    "        self.ixer   = idxer = Indexer(ncf.variables['ccn_001'].shape)\n",
    "        \n",
    "    def __getitem__(self,idx):\n",
    "        ix4 = self.ixer.inverse4(idx)\n",
    "#         print(ix4)\n",
    "        feat= np.zeros((len(self.feat)))\n",
    "        for i,t in enumerate(self.feat):\n",
    "            feat[i] = self.ncf[t][ix4]\n",
    "        \n",
    "        out = np.zeros((len(self.target)))\n",
    "        for i,t in enumerate(self.target):\n",
    "            out[i] = self.ncf[t][ix4]\n",
    "        return feat, out\n",
    "    def __len__(self):\n",
    "        return NMAX"
   ]
  },
  {
   "cell_type": "code",
   "execution_count": 141,
   "id": "88821744-3138-4be3-a6bc-d3b112329a50",
   "metadata": {},
   "outputs": [
    {
     "data": {
      "text/plain": [
       "20959380"
      ]
     },
     "execution_count": 141,
     "metadata": {},
     "output_type": "execute_result"
    }
   ],
   "source": [
    "NMAX"
   ]
  },
  {
   "cell_type": "code",
   "execution_count": 142,
   "id": "bdfa4861-ada6-4713-98b0-2c0bf0b59f2e",
   "metadata": {},
   "outputs": [],
   "source": [
    "idxes = np.random.randint(0,NMAX,16)"
   ]
  },
  {
   "cell_type": "code",
   "execution_count": 144,
   "id": "6bc51f66-db8b-44f7-a0a4-9702b3e6f9bb",
   "metadata": {},
   "outputs": [],
   "source": [
    "ds = RegDataset(wrf_filename, feat_cols, target_cols)\n",
    "dl = torch.utils.data.DataLoader(ds, batch_size=16, shuffle=True,num_workers=0)"
   ]
  },
  {
   "cell_type": "code",
   "execution_count": 143,
   "id": "4e1b8973-7c6a-4b6b-bf4b-b7ec61cbe7b3",
   "metadata": {},
   "outputs": [
    {
     "name": "stdout",
     "output_type": "stream",
     "text": [
      "CPU times: user 652 ms, sys: 112 ms, total: 764 ms\n",
      "Wall time: 2.48 s\n"
     ]
    }
   ],
   "source": [
    "%%time\n",
    "for i in idxes:\n",
    "    ds[i]"
   ]
  },
  {
   "cell_type": "code",
   "execution_count": 149,
   "id": "659b72e6-721c-46fd-9d49-0847ef8d1f3d",
   "metadata": {},
   "outputs": [
    {
     "data": {
      "text/plain": [
       "60.646388888888886"
      ]
     },
     "execution_count": 149,
     "metadata": {},
     "output_type": "execute_result"
    }
   ],
   "source": [
    "len(dl) * 4 / 60/60/24"
   ]
  },
  {
   "cell_type": "code",
   "execution_count": 145,
   "id": "309a4d67-4eaf-4977-bdca-11d0da7a8e1b",
   "metadata": {},
   "outputs": [
    {
     "name": "stdout",
     "output_type": "stream",
     "text": [
      "CPU times: user 1.82 s, sys: 272 ms, total: 2.09 s\n",
      "Wall time: 4.35 s\n"
     ]
    },
    {
     "data": {
      "text/plain": [
       "[tensor([[2.1145e+08, 6.3599e-10, 3.2515e-10,  ..., 2.6074e-07, 9.0165e+02,\n",
       "          8.3721e+04],\n",
       "         [3.1073e+07, 4.4897e-11, 2.1782e-11,  ..., 1.0000e-16, 4.4123e+00,\n",
       "          5.2840e+03],\n",
       "         [4.7268e+07, 2.1350e-10, 8.0567e-11,  ..., 1.0000e-16, 2.9568e+02,\n",
       "          2.4014e+04],\n",
       "         ...,\n",
       "         [7.8487e+07, 3.4612e-10, 1.2622e-10,  ..., 8.5891e-15, 6.0368e+02,\n",
       "          4.9672e+04],\n",
       "         [2.7647e+07, 3.6995e-11, 1.7507e-11,  ..., 1.0000e-16, 4.2824e+00,\n",
       "          5.2053e+03],\n",
       "         [5.6262e+07, 2.0252e-10, 7.8007e-11,  ..., 1.0000e-16, 2.3199e+02,\n",
       "          2.0955e+04]], dtype=torch.float64),\n",
       " tensor([[1.8411e+07, 5.3832e+07, 7.9168e+07, 6.8384e-01, 6.9186e-01, 2.6172e+00,\n",
       "          3.3648e+00, 1.4379e+00, 1.6330e+00, 3.6685e-10],\n",
       "         [6.9810e+05, 2.5691e+06, 4.7254e+06, 7.0322e-01, 7.7905e-01, 2.1313e+00,\n",
       "          2.6087e+00, 1.4088e+00, 1.5248e+00, 3.0336e-11],\n",
       "         [1.8435e+06, 9.8547e+06, 1.4669e+07, 7.4810e-01, 7.4376e-01, 1.9584e+00,\n",
       "          2.2811e+00, 1.4541e+00, 1.6105e+00, 1.3919e-10],\n",
       "         [4.4954e+06, 1.3590e+07, 1.9641e+07, 7.4314e-01, 7.1353e-01, 1.7006e+00,\n",
       "          1.9428e+00, 1.3650e+00, 1.5115e+00, 1.2916e-10],\n",
       "         [1.5620e+06, 6.8689e+06, 1.2390e+07, 6.6711e-01, 7.2057e-01, 1.9956e+00,\n",
       "          2.4924e+00, 1.4076e+00, 1.5657e+00, 6.8858e-11],\n",
       "         [3.3836e+07, 7.3986e+07, 1.0086e+08, 7.7723e-01, 7.8609e-01, 2.7956e+00,\n",
       "          3.3102e+00, 1.5373e+00, 1.6835e+00, 5.8888e-10],\n",
       "         [2.0582e+06, 1.1519e+07, 1.7126e+07, 7.3698e-01, 7.1229e-01, 1.8127e+00,\n",
       "          2.1028e+00, 1.4099e+00, 1.5755e+00, 9.6132e-11],\n",
       "         [2.6538e+06, 1.5810e+07, 2.2887e+07, 7.1457e-01, 6.8297e-01, 1.7016e+00,\n",
       "          1.9818e+00, 1.3614e+00, 1.5292e+00, 1.6219e-10],\n",
       "         [2.8437e+06, 1.0943e+07, 1.8403e+07, 7.2064e-01, 7.4238e-01, 2.0759e+00,\n",
       "          2.4930e+00, 1.4580e+00, 1.6170e+00, 1.2922e-10],\n",
       "         [1.0003e+07, 3.3756e+07, 4.8583e+07, 7.5514e-01, 7.6185e-01, 2.2377e+00,\n",
       "          2.6390e+00, 1.5300e+00, 1.6957e+00, 2.9904e-10],\n",
       "         [4.5431e+05, 2.4968e+06, 4.2474e+06, 6.9458e-01, 7.7021e-01, 2.0850e+00,\n",
       "          2.5620e+00, 1.3955e+00, 1.5135e+00, 2.6069e-11],\n",
       "         [5.5007e+06, 1.6946e+07, 2.6176e+07, 6.3754e-01, 6.5095e-01, 2.0296e+00,\n",
       "          2.6150e+00, 1.3374e+00, 1.5184e+00, 1.3053e-10],\n",
       "         [6.3710e+06, 2.2508e+07, 3.2585e+07, 7.1312e-01, 7.1459e-01, 1.8634e+00,\n",
       "          2.2107e+00, 1.4137e+00, 1.5789e+00, 1.7580e-10],\n",
       "         [4.0886e+06, 1.6105e+07, 2.3888e+07, 7.2220e-01, 7.0418e-01, 1.7682e+00,\n",
       "          2.0637e+00, 1.3826e+00, 1.5433e+00, 2.0759e-10],\n",
       "         [4.4592e+05, 2.6064e+06, 3.9917e+06, 6.9844e-01, 7.7670e-01, 2.1895e+00,\n",
       "          2.7031e+00, 1.4359e+00, 1.5613e+00, 2.5749e-11],\n",
       "         [1.9506e+06, 8.3964e+06, 1.4121e+07, 7.2149e-01, 7.2192e-01, 1.9057e+00,\n",
       "          2.2553e+00, 1.4227e+00, 1.5855e+00, 1.2720e-10]], dtype=torch.float64)]"
      ]
     },
     "execution_count": 145,
     "metadata": {},
     "output_type": "execute_result"
    }
   ],
   "source": [
    "%%time\n",
    "next(iter(dl))"
   ]
  },
  {
   "cell_type": "code",
   "execution_count": 106,
   "id": "c61c5097-963f-4f69-b753-2ea97306c9a1",
   "metadata": {},
   "outputs": [
    {
     "name": "stdout",
     "output_type": "stream",
     "text": [
      "5.84761643409729\n",
      "5.494378328323364\n",
      "5.3465735912323\n",
      "5.30994725227356\n",
      "5.668700695037842\n",
      "4.7315380573272705\n",
      "5.056265830993652\n",
      "5.5845935344696045\n",
      "5.248762607574463\n",
      "5.3059399127960205\n",
      "4.850856781005859\n",
      "4.971888780593872\n",
      "4.755682468414307\n"
     ]
    },
    {
     "ename": "KeyboardInterrupt",
     "evalue": "",
     "output_type": "error",
     "traceback": [
      "\u001b[0;31m---------------------------------------------------------------------------\u001b[0m",
      "\u001b[0;31mKeyboardInterrupt\u001b[0m                         Traceback (most recent call last)",
      "Input \u001b[0;32mIn [106]\u001b[0m, in \u001b[0;36m<cell line: 5>\u001b[0;34m()\u001b[0m\n\u001b[1;32m      3\u001b[0m time_now \u001b[38;5;241m=\u001b[39m time\u001b[38;5;241m.\u001b[39mtime()\n\u001b[1;32m      4\u001b[0m counts \u001b[38;5;241m=\u001b[39m \u001b[38;5;241m0\u001b[39m\n\u001b[0;32m----> 5\u001b[0m \u001b[38;5;28;01mfor\u001b[39;00m feat, out \u001b[38;5;129;01min\u001b[39;00m dl:\n\u001b[1;32m      6\u001b[0m     \u001b[38;5;28mprint\u001b[39m(time\u001b[38;5;241m.\u001b[39mtime() \u001b[38;5;241m-\u001b[39m time_now)\n\u001b[1;32m      7\u001b[0m     time_now \u001b[38;5;241m=\u001b[39m time\u001b[38;5;241m.\u001b[39mtime()\n",
      "File \u001b[0;32m~/.conda/envs/torch/lib/python3.9/site-packages/torch/utils/data/dataloader.py:521\u001b[0m, in \u001b[0;36m_BaseDataLoaderIter.__next__\u001b[0;34m(self)\u001b[0m\n\u001b[1;32m    519\u001b[0m \u001b[38;5;28;01mif\u001b[39;00m \u001b[38;5;28mself\u001b[39m\u001b[38;5;241m.\u001b[39m_sampler_iter \u001b[38;5;129;01mis\u001b[39;00m \u001b[38;5;28;01mNone\u001b[39;00m:\n\u001b[1;32m    520\u001b[0m     \u001b[38;5;28mself\u001b[39m\u001b[38;5;241m.\u001b[39m_reset()\n\u001b[0;32m--> 521\u001b[0m data \u001b[38;5;241m=\u001b[39m \u001b[38;5;28;43mself\u001b[39;49m\u001b[38;5;241;43m.\u001b[39;49m\u001b[43m_next_data\u001b[49m\u001b[43m(\u001b[49m\u001b[43m)\u001b[49m\n\u001b[1;32m    522\u001b[0m \u001b[38;5;28mself\u001b[39m\u001b[38;5;241m.\u001b[39m_num_yielded \u001b[38;5;241m+\u001b[39m\u001b[38;5;241m=\u001b[39m \u001b[38;5;241m1\u001b[39m\n\u001b[1;32m    523\u001b[0m \u001b[38;5;28;01mif\u001b[39;00m \u001b[38;5;28mself\u001b[39m\u001b[38;5;241m.\u001b[39m_dataset_kind \u001b[38;5;241m==\u001b[39m _DatasetKind\u001b[38;5;241m.\u001b[39mIterable \u001b[38;5;129;01mand\u001b[39;00m \\\n\u001b[1;32m    524\u001b[0m         \u001b[38;5;28mself\u001b[39m\u001b[38;5;241m.\u001b[39m_IterableDataset_len_called \u001b[38;5;129;01mis\u001b[39;00m \u001b[38;5;129;01mnot\u001b[39;00m \u001b[38;5;28;01mNone\u001b[39;00m \u001b[38;5;129;01mand\u001b[39;00m \\\n\u001b[1;32m    525\u001b[0m         \u001b[38;5;28mself\u001b[39m\u001b[38;5;241m.\u001b[39m_num_yielded \u001b[38;5;241m>\u001b[39m \u001b[38;5;28mself\u001b[39m\u001b[38;5;241m.\u001b[39m_IterableDataset_len_called:\n",
      "File \u001b[0;32m~/.conda/envs/torch/lib/python3.9/site-packages/torch/utils/data/dataloader.py:561\u001b[0m, in \u001b[0;36m_SingleProcessDataLoaderIter._next_data\u001b[0;34m(self)\u001b[0m\n\u001b[1;32m    559\u001b[0m \u001b[38;5;28;01mdef\u001b[39;00m \u001b[38;5;21m_next_data\u001b[39m(\u001b[38;5;28mself\u001b[39m):\n\u001b[1;32m    560\u001b[0m     index \u001b[38;5;241m=\u001b[39m \u001b[38;5;28mself\u001b[39m\u001b[38;5;241m.\u001b[39m_next_index()  \u001b[38;5;66;03m# may raise StopIteration\u001b[39;00m\n\u001b[0;32m--> 561\u001b[0m     data \u001b[38;5;241m=\u001b[39m \u001b[38;5;28;43mself\u001b[39;49m\u001b[38;5;241;43m.\u001b[39;49m\u001b[43m_dataset_fetcher\u001b[49m\u001b[38;5;241;43m.\u001b[39;49m\u001b[43mfetch\u001b[49m\u001b[43m(\u001b[49m\u001b[43mindex\u001b[49m\u001b[43m)\u001b[49m  \u001b[38;5;66;03m# may raise StopIteration\u001b[39;00m\n\u001b[1;32m    562\u001b[0m     \u001b[38;5;28;01mif\u001b[39;00m \u001b[38;5;28mself\u001b[39m\u001b[38;5;241m.\u001b[39m_pin_memory:\n\u001b[1;32m    563\u001b[0m         data \u001b[38;5;241m=\u001b[39m _utils\u001b[38;5;241m.\u001b[39mpin_memory\u001b[38;5;241m.\u001b[39mpin_memory(data)\n",
      "File \u001b[0;32m~/.conda/envs/torch/lib/python3.9/site-packages/torch/utils/data/_utils/fetch.py:49\u001b[0m, in \u001b[0;36m_MapDatasetFetcher.fetch\u001b[0;34m(self, possibly_batched_index)\u001b[0m\n\u001b[1;32m     47\u001b[0m \u001b[38;5;28;01mdef\u001b[39;00m \u001b[38;5;21mfetch\u001b[39m(\u001b[38;5;28mself\u001b[39m, possibly_batched_index):\n\u001b[1;32m     48\u001b[0m     \u001b[38;5;28;01mif\u001b[39;00m \u001b[38;5;28mself\u001b[39m\u001b[38;5;241m.\u001b[39mauto_collation:\n\u001b[0;32m---> 49\u001b[0m         data \u001b[38;5;241m=\u001b[39m [\u001b[38;5;28mself\u001b[39m\u001b[38;5;241m.\u001b[39mdataset[idx] \u001b[38;5;28;01mfor\u001b[39;00m idx \u001b[38;5;129;01min\u001b[39;00m possibly_batched_index]\n\u001b[1;32m     50\u001b[0m     \u001b[38;5;28;01melse\u001b[39;00m:\n\u001b[1;32m     51\u001b[0m         data \u001b[38;5;241m=\u001b[39m \u001b[38;5;28mself\u001b[39m\u001b[38;5;241m.\u001b[39mdataset[possibly_batched_index]\n",
      "File \u001b[0;32m~/.conda/envs/torch/lib/python3.9/site-packages/torch/utils/data/_utils/fetch.py:49\u001b[0m, in \u001b[0;36m<listcomp>\u001b[0;34m(.0)\u001b[0m\n\u001b[1;32m     47\u001b[0m \u001b[38;5;28;01mdef\u001b[39;00m \u001b[38;5;21mfetch\u001b[39m(\u001b[38;5;28mself\u001b[39m, possibly_batched_index):\n\u001b[1;32m     48\u001b[0m     \u001b[38;5;28;01mif\u001b[39;00m \u001b[38;5;28mself\u001b[39m\u001b[38;5;241m.\u001b[39mauto_collation:\n\u001b[0;32m---> 49\u001b[0m         data \u001b[38;5;241m=\u001b[39m [\u001b[38;5;28;43mself\u001b[39;49m\u001b[38;5;241;43m.\u001b[39;49m\u001b[43mdataset\u001b[49m\u001b[43m[\u001b[49m\u001b[43midx\u001b[49m\u001b[43m]\u001b[49m \u001b[38;5;28;01mfor\u001b[39;00m idx \u001b[38;5;129;01min\u001b[39;00m possibly_batched_index]\n\u001b[1;32m     50\u001b[0m     \u001b[38;5;28;01melse\u001b[39;00m:\n\u001b[1;32m     51\u001b[0m         data \u001b[38;5;241m=\u001b[39m \u001b[38;5;28mself\u001b[39m\u001b[38;5;241m.\u001b[39mdataset[possibly_batched_index]\n",
      "Input \u001b[0;32mIn [94]\u001b[0m, in \u001b[0;36mRegDataset.__getitem__\u001b[0;34m(self, idx)\u001b[0m\n\u001b[1;32m     12\u001b[0m feat\u001b[38;5;241m=\u001b[39m np\u001b[38;5;241m.\u001b[39mzeros((\u001b[38;5;28mlen\u001b[39m(\u001b[38;5;28mself\u001b[39m\u001b[38;5;241m.\u001b[39mfeat)))\n\u001b[1;32m     13\u001b[0m \u001b[38;5;28;01mfor\u001b[39;00m i,t \u001b[38;5;129;01min\u001b[39;00m \u001b[38;5;28menumerate\u001b[39m(\u001b[38;5;28mself\u001b[39m\u001b[38;5;241m.\u001b[39mfeat):\n\u001b[0;32m---> 14\u001b[0m     feat[i] \u001b[38;5;241m=\u001b[39m \u001b[38;5;28;43mself\u001b[39;49m\u001b[38;5;241;43m.\u001b[39;49m\u001b[43mncf\u001b[49m\u001b[43m[\u001b[49m\u001b[43mt\u001b[49m\u001b[43m]\u001b[49m\u001b[43m[\u001b[49m\u001b[43mix4\u001b[49m\u001b[43m]\u001b[49m\n\u001b[1;32m     16\u001b[0m out \u001b[38;5;241m=\u001b[39m np\u001b[38;5;241m.\u001b[39mzeros((\u001b[38;5;28mlen\u001b[39m(\u001b[38;5;28mself\u001b[39m\u001b[38;5;241m.\u001b[39mtarget)))\n\u001b[1;32m     17\u001b[0m \u001b[38;5;28;01mfor\u001b[39;00m i,t \u001b[38;5;129;01min\u001b[39;00m \u001b[38;5;28menumerate\u001b[39m(\u001b[38;5;28mself\u001b[39m\u001b[38;5;241m.\u001b[39mtarget):\n",
      "File \u001b[0;32msrc/netCDF4/_netCDF4.pyx:4445\u001b[0m, in \u001b[0;36mnetCDF4._netCDF4.Variable.__getitem__\u001b[0;34m()\u001b[0m\n",
      "File \u001b[0;32msrc/netCDF4/_netCDF4.pyx:4592\u001b[0m, in \u001b[0;36mnetCDF4._netCDF4.Variable._toma\u001b[0;34m()\u001b[0m\n",
      "File \u001b[0;32m~/.conda/envs/torch/lib/python3.9/site-packages/numpy/core/_methods.py:54\u001b[0m, in \u001b[0;36m_any\u001b[0;34m(a, axis, dtype, out, keepdims, where)\u001b[0m\n\u001b[1;32m     50\u001b[0m \u001b[38;5;28;01mdef\u001b[39;00m \u001b[38;5;21m_prod\u001b[39m(a, axis\u001b[38;5;241m=\u001b[39m\u001b[38;5;28;01mNone\u001b[39;00m, dtype\u001b[38;5;241m=\u001b[39m\u001b[38;5;28;01mNone\u001b[39;00m, out\u001b[38;5;241m=\u001b[39m\u001b[38;5;28;01mNone\u001b[39;00m, keepdims\u001b[38;5;241m=\u001b[39m\u001b[38;5;28;01mFalse\u001b[39;00m,\n\u001b[1;32m     51\u001b[0m           initial\u001b[38;5;241m=\u001b[39m_NoValue, where\u001b[38;5;241m=\u001b[39m\u001b[38;5;28;01mTrue\u001b[39;00m):\n\u001b[1;32m     52\u001b[0m     \u001b[38;5;28;01mreturn\u001b[39;00m umr_prod(a, axis, dtype, out, keepdims, initial, where)\n\u001b[0;32m---> 54\u001b[0m \u001b[38;5;28;01mdef\u001b[39;00m \u001b[38;5;21m_any\u001b[39m(a, axis\u001b[38;5;241m=\u001b[39m\u001b[38;5;28;01mNone\u001b[39;00m, dtype\u001b[38;5;241m=\u001b[39m\u001b[38;5;28;01mNone\u001b[39;00m, out\u001b[38;5;241m=\u001b[39m\u001b[38;5;28;01mNone\u001b[39;00m, keepdims\u001b[38;5;241m=\u001b[39m\u001b[38;5;28;01mFalse\u001b[39;00m, \u001b[38;5;241m*\u001b[39m, where\u001b[38;5;241m=\u001b[39m\u001b[38;5;28;01mTrue\u001b[39;00m):\n\u001b[1;32m     55\u001b[0m     \u001b[38;5;66;03m# Parsing keyword arguments is currently fairly slow, so avoid it for now\u001b[39;00m\n\u001b[1;32m     56\u001b[0m     \u001b[38;5;28;01mif\u001b[39;00m where \u001b[38;5;129;01mis\u001b[39;00m \u001b[38;5;28;01mTrue\u001b[39;00m:\n\u001b[1;32m     57\u001b[0m         \u001b[38;5;28;01mreturn\u001b[39;00m umr_any(a, axis, dtype, out, keepdims)\n",
      "\u001b[0;31mKeyboardInterrupt\u001b[0m: "
     ]
    }
   ],
   "source": [
    "# %%time\n",
    "import time\n",
    "time_now = time.time()\n",
    "counts = 0\n",
    "for feat, out in dl:\n",
    "    print(time.time() - time_now)\n",
    "    time_now = time.time()\n",
    "    if counts > 100: break\n",
    "    counts += 1"
   ]
  },
  {
   "cell_type": "code",
   "execution_count": 123,
   "id": "32c9764c-c265-4810-884a-9897d69ddc16",
   "metadata": {},
   "outputs": [
    {
     "name": "stderr",
     "output_type": "stream",
     "text": [
      "/tmp/ipykernel_599759/2103884522.py:10: RuntimeWarning: divide by zero encountered in log\n",
      "  tmp = np.log(ds.ncf[f])\n",
      "/home/kwoksun2/.conda/envs/torch/lib/python3.9/site-packages/numpy/core/_methods.py:230: RuntimeWarning: invalid value encountered in subtract\n",
      "  x = asanyarray(arr - arrmean)\n",
      "/tmp/ipykernel_599759/2103884522.py:10: RuntimeWarning: invalid value encountered in log\n",
      "  tmp = np.log(ds.ncf[f])\n"
     ]
    }
   ],
   "source": [
    "# %%time\n",
    "log_mean = {}\n",
    "log_std  = {}\n",
    "for f in target_cols:\n",
    "    tmp = np.log(ds.ncf[f])\n",
    "    log_mean[f] = tmp.mean()\n",
    "    log_std[f]  = tmp.std()\n",
    "    \n",
    "for f in feat_cols:\n",
    "    tmp = np.log(ds.ncf[f])\n",
    "    log_mean[f] = tmp.mean()\n",
    "    log_std[f]  = tmp.std()"
   ]
  },
  {
   "cell_type": "code",
   "execution_count": 136,
   "id": "d0c13ccc-2f11-4a3a-81d8-a8706a03ba7b",
   "metadata": {},
   "outputs": [
    {
     "name": "stderr",
     "output_type": "stream",
     "text": [
      "/tmp/ipykernel_599759/3608747556.py:1: RuntimeWarning: divide by zero encountered in log\n",
      "  plt.imshow(np.log(ds.ncf['pmc_NO3'][30,0,:,:]))\n"
     ]
    },
    {
     "data": {
      "text/plain": [
       "<matplotlib.colorbar.Colorbar at 0x7ffe82bb06a0>"
      ]
     },
     "execution_count": 136,
     "metadata": {},
     "output_type": "execute_result"
    },
    {
     "data": {
      "image/png": "[encoded data removed]",
      "text/plain": [
       "<Figure size 432x288 with 2 Axes>"
      ]
     },
     "metadata": {
      "needs_background": "light"
     },
     "output_type": "display_data"
    }
   ],
   "source": [
    "plt.imshow(np.log(ds.ncf['pmc_NO3'][30,0,:,:]))\n",
    "plt.colorbar()"
   ]
  },
  {
   "cell_type": "code",
   "execution_count": 128,
   "id": "135d319c-6623-40b7-b318-f3f4178d05b5",
   "metadata": {},
   "outputs": [
    {
     "data": {
      "text/plain": [
       "<class 'netCDF4._netCDF4.Variable'>\n",
       "float32 pmc_NO3(Time, bottom_top, south_north, west_east)\n",
       "    FieldType: 104\n",
       "    MemoryOrder: XYZ\n",
       "    description: NO3, total mass\n",
       "    units: total mass\n",
       "    stagger: \n",
       "    coordinates: XLONG XLAT XTIME\n",
       "unlimited dimensions: Time\n",
       "current shape = (133, 39, 159, 169)\n",
       "filling on, default _FillValue of 9.969209968386869e+36 used"
      ]
     },
     "execution_count": 128,
     "metadata": {},
     "output_type": "execute_result"
    }
   ],
   "source": [
    "ds.ncf['pmc_NO3']"
   ]
  },
  {
   "cell_type": "code",
   "execution_count": 124,
   "id": "977c68ab-4cbf-4077-8d24-ffd1c80b40b2",
   "metadata": {},
   "outputs": [
    {
     "data": {
      "text/plain": [
       "({'ccn_001': 15.125228,\n",
       "  'ccn_003': 16.548517,\n",
       "  'ccn_006': 16.995298,\n",
       "  'CHI': -0.34824014,\n",
       "  'CHI_CCN': -0.3262838,\n",
       "  'D_ALPHA': 0.73368394,\n",
       "  'D_GAMMA': 0.92895013,\n",
       "  'D_ALPHA_CCN': 0.346326,\n",
       "  'D_GAMMA_CCN': 0.45309588,\n",
       "  'PM25': -22.556446,\n",
       "  'TOT_NUM_CONC': 18.34305,\n",
       "  'TOT_MASS_CONC': -22.136595,\n",
       "  'pmc_SO4': -22.968529,\n",
       "  'pmc_NO3': -inf,\n",
       "  'pmc_Cl': -inf,\n",
       "  'pmc_NH4': -inf,\n",
       "  'pmc_ARO1': -inf,\n",
       "  'pmc_ARO2': -inf,\n",
       "  'pmc_ALK1': -inf,\n",
       "  'pmc_OLE1': -inf,\n",
       "  'pmc_API1': -25.16306,\n",
       "  'pmc_API2': -inf,\n",
       "  'pmc_LIM1': -inf,\n",
       "  'pmc_LIM2': -inf,\n",
       "  'pmc_OC': -24.806288,\n",
       "  'pmc_BC': -25.524881,\n",
       "  'pmc_H2O': -inf,\n",
       "  'TEMPERATURE': 5.5034914,\n",
       "  'REL_HUMID': -1.5752105,\n",
       "  'ALT': 0.84901726,\n",
       "  'Z': nan,\n",
       "  'h2so4': -12.644124,\n",
       "  'hno3': -1.6351258,\n",
       "  'hcl': -30.56432,\n",
       "  'nh3': -15.9323015,\n",
       "  'no': -9.122495,\n",
       "  'no2': -2.6634173,\n",
       "  'no3': -10.187049,\n",
       "  'n2o5': -7.1586,\n",
       "  'hono': -10.355517,\n",
       "  'hno4': -5.1955643,\n",
       "  'o3': 4.7586384,\n",
       "  'o1d': -inf,\n",
       "  'O3P': -inf,\n",
       "  'oh': -11.8316765,\n",
       "  'ho2': -7.726491,\n",
       "  'h2o2': -1.4953625,\n",
       "  'co': 4.2108164,\n",
       "  'so2': -6.4495187,\n",
       "  'ch4': -26.513924,\n",
       "  'c2h6': -26.126345,\n",
       "  'ch3o2': -15.172676,\n",
       "  'ethp': -inf,\n",
       "  'hcho': -3.5917754,\n",
       "  'ch3oh': -17.04584,\n",
       "  'ANOL': -27.66798,\n",
       "  'ch3ooh': -14.339178,\n",
       "  'ETHOOH': -24.769266,\n",
       "  'ald2': -17.762972,\n",
       "  'hcooh': -19.481771,\n",
       "  'RCOOH': -14.002481,\n",
       "  'c2o3': -inf,\n",
       "  'pan': -2.4645169,\n",
       "  'aro1': -28.355352,\n",
       "  'aro2': -29.153612,\n",
       "  'alk1': -24.860498,\n",
       "  'ole1': -28.337399,\n",
       "  'api1': -17.387245,\n",
       "  'api2': -36.73376,\n",
       "  'lim1': -36.727303,\n",
       "  'lim2': -36.61059,\n",
       "  'par': -20.515373,\n",
       "  'AONE': -21.364376,\n",
       "  'mgly': -10.837628,\n",
       "  'eth': -8.9533615,\n",
       "  'OLET': -27.842142,\n",
       "  'OLEI': -30.370405,\n",
       "  'tol': -27.716948,\n",
       "  'xyl': -28.660027,\n",
       "  'cres': -30.483358,\n",
       "  'to2': -30.24161,\n",
       "  'cro': -inf,\n",
       "  'open': -28.947706,\n",
       "  'onit': -22.045343,\n",
       "  'rooh': -21.312506,\n",
       "  'ro2': -25.189566,\n",
       "  'ano2': -27.76191,\n",
       "  'nap': -inf,\n",
       "  'xo2': -20.351742,\n",
       "  'xpar': -23.100685,\n",
       "  'isop': -26.716091,\n",
       "  'isoprd': -14.567874,\n",
       "  'isopp': -28.716454,\n",
       "  'isopn': -inf,\n",
       "  'isopo2': -26.855345,\n",
       "  'api': -inf,\n",
       "  'lim': -inf,\n",
       "  'dms': -36.838326,\n",
       "  'msa': -inf,\n",
       "  'dmso': -36.838337,\n",
       "  'dmso2': -36.838196,\n",
       "  'ch3so2h': -36.838177,\n",
       "  'ch3sch2oo': -inf,\n",
       "  'ch3so2': -inf,\n",
       "  'ch3so3': -inf,\n",
       "  'ch3so2oo': -inf,\n",
       "  'ch3so2ch2oo': -inf,\n",
       "  'SULFHOX': -31.400982,\n",
       "  'P': nan,\n",
       "  'PB': 10.305028},\n",
       " {'ccn_001': 1.3428156,\n",
       "  'ccn_003': 1.0779657,\n",
       "  'ccn_006': 1.0479535,\n",
       "  'CHI': 0.08097392,\n",
       "  'CHI_CCN': 0.10943509,\n",
       "  'D_ALPHA': 0.20763765,\n",
       "  'D_GAMMA': 0.2632665,\n",
       "  'D_ALPHA_CCN': 0.07147439,\n",
       "  'D_GAMMA_CCN': 0.091097355,\n",
       "  'PM25': 1.1029556,\n",
       "  'TOT_NUM_CONC': 0.70758617,\n",
       "  'TOT_MASS_CONC': 1.1218609,\n",
       "  'pmc_SO4': 0.9752101,\n",
       "  'pmc_NO3': nan,\n",
       "  'pmc_Cl': nan,\n",
       "  'pmc_NH4': nan,\n",
       "  'pmc_ARO1': nan,\n",
       "  'pmc_ARO2': nan,\n",
       "  'pmc_ALK1': nan,\n",
       "  'pmc_OLE1': nan,\n",
       "  'pmc_API1': 0.6907709,\n",
       "  'pmc_API2': nan,\n",
       "  'pmc_LIM1': nan,\n",
       "  'pmc_LIM2': nan,\n",
       "  'pmc_OC': 1.0137749,\n",
       "  'pmc_BC': 0.99945027,\n",
       "  'pmc_H2O': nan,\n",
       "  'TEMPERATURE': 0.118394464,\n",
       "  'REL_HUMID': 0.7056577,\n",
       "  'ALT': 0.8125616,\n",
       "  'Z': nan,\n",
       "  'h2so4': 4.791286,\n",
       "  'hno3': 1.3629346,\n",
       "  'hcl': 10.204062,\n",
       "  'nh3': 9.87512,\n",
       "  'no': 6.966233,\n",
       "  'no2': 1.411046,\n",
       "  'no3': 3.212436,\n",
       "  'n2o5': 3.7962284,\n",
       "  'hono': 4.4956794,\n",
       "  'hno4': 2.3920822,\n",
       "  'o3': 1.2848103,\n",
       "  'o1d': nan,\n",
       "  'O3P': nan,\n",
       "  'oh': 4.3006687,\n",
       "  'ho2': 4.3515263,\n",
       "  'h2o2': 1.9797121,\n",
       "  'co': 0.6067945,\n",
       "  'so2': 2.1138978,\n",
       "  'ch4': 14.313685,\n",
       "  'c2h6': 12.356051,\n",
       "  'ch3o2': 7.13867,\n",
       "  'ethp': nan,\n",
       "  'hcho': 1.8312167,\n",
       "  'ch3oh': 12.211146,\n",
       "  'ANOL': 13.230266,\n",
       "  'ch3ooh': 9.414891,\n",
       "  'ETHOOH': 11.531845,\n",
       "  'ald2': 12.286883,\n",
       "  'hcooh': 11.844998,\n",
       "  'RCOOH': 9.367815,\n",
       "  'c2o3': nan,\n",
       "  'pan': 1.2073529,\n",
       "  'aro1': 11.055769,\n",
       "  'aro2': 10.675926,\n",
       "  'alk1': 11.534569,\n",
       "  'ole1': 11.2376995,\n",
       "  'api1': 8.1443205,\n",
       "  'api2': 0.24546386,\n",
       "  'lim1': 0.2603229,\n",
       "  'lim2': 0.4638327,\n",
       "  'par': 14.057327,\n",
       "  'AONE': 13.201026,\n",
       "  'mgly': 4.4314528,\n",
       "  'eth': 5.9386578,\n",
       "  'OLET': 13.06464,\n",
       "  'OLEI': 10.806257,\n",
       "  'tol': 12.221421,\n",
       "  'xyl': 11.637338,\n",
       "  'cres': 9.711232,\n",
       "  'to2': 10.199896,\n",
       "  'cro': nan,\n",
       "  'open': 11.092004,\n",
       "  'onit': 13.122526,\n",
       "  'rooh': 13.15976,\n",
       "  'ro2': 11.423492,\n",
       "  'ano2': 10.081585,\n",
       "  'nap': nan,\n",
       "  'xo2': 11.161365,\n",
       "  'xpar': 11.159508,\n",
       "  'isop': 12.343694,\n",
       "  'isoprd': 9.769105,\n",
       "  'isopp': 10.865192,\n",
       "  'isopn': nan,\n",
       "  'isopo2': 11.655581,\n",
       "  'api': nan,\n",
       "  'lim': nan,\n",
       "  'dms': 0.0034827827,\n",
       "  'msa': nan,\n",
       "  'dmso': 0.0039644293,\n",
       "  'dmso2': 0.006675019,\n",
       "  'ch3so2h': 0.007895371,\n",
       "  'ch3sch2oo': nan,\n",
       "  'ch3so2': nan,\n",
       "  'ch3so3': nan,\n",
       "  'ch3so2oo': nan,\n",
       "  'ch3so2ch2oo': nan,\n",
       "  'SULFHOX': 9.058926,\n",
       "  'P': nan,\n",
       "  'PB': 0.92249596})"
      ]
     },
     "execution_count": 124,
     "metadata": {},
     "output_type": "execute_result"
    }
   ],
   "source": [
    "log_mean, log_std"
   ]
  },
  {
   "cell_type": "code",
   "execution_count": 119,
   "id": "a358a722-ff86-401f-8e9b-7a04579c3908",
   "metadata": {},
   "outputs": [],
   "source": []
  },
  {
   "cell_type": "code",
   "execution_count": 120,
   "id": "e05228ac-a878-4de3-b9b9-636c800dba7e",
   "metadata": {},
   "outputs": [
    {
     "name": "stdout",
     "output_type": "stream",
     "text": [
      "532M\tccn001.npy\n"
     ]
    }
   ],
   "source": [
    "!du -h ccn001.npy"
   ]
  },
  {
   "cell_type": "code",
   "execution_count": 9,
   "id": "be59993f-5ebf-454f-b8df-c27eab3f648c",
   "metadata": {},
   "outputs": [
    {
     "ename": "NameError",
     "evalue": "name 'dl' is not defined",
     "output_type": "error",
     "traceback": [
      "\u001b[0;31m---------------------------------------------------------------------------\u001b[0m",
      "\u001b[0;31mNameError\u001b[0m                                 Traceback (most recent call last)",
      "Input \u001b[0;32mIn [9]\u001b[0m, in \u001b[0;36m<cell line: 1>\u001b[0;34m()\u001b[0m\n\u001b[0;32m----> 1\u001b[0m \u001b[43mget_ipython\u001b[49m\u001b[43m(\u001b[49m\u001b[43m)\u001b[49m\u001b[38;5;241;43m.\u001b[39;49m\u001b[43mrun_cell_magic\u001b[49m\u001b[43m(\u001b[49m\u001b[38;5;124;43m'\u001b[39;49m\u001b[38;5;124;43mtimeit\u001b[39;49m\u001b[38;5;124;43m'\u001b[39;49m\u001b[43m,\u001b[49m\u001b[43m \u001b[49m\u001b[38;5;124;43m'\u001b[39;49m\u001b[38;5;124;43m'\u001b[39;49m\u001b[43m,\u001b[49m\u001b[43m \u001b[49m\u001b[38;5;124;43m'\u001b[39;49m\u001b[38;5;124;43mdd = []\u001b[39;49m\u001b[38;5;130;43;01m\\n\u001b[39;49;00m\u001b[38;5;124;43mx = next(iter(dl))\u001b[39;49m\u001b[38;5;130;43;01m\\n\u001b[39;49;00m\u001b[38;5;124;43mindices = [ idx.inverse4(i) for i in x.numpy()]\u001b[39;49m\u001b[38;5;130;43;01m\\n\u001b[39;49;00m\u001b[38;5;130;43;01m\\n\u001b[39;49;00m\u001b[38;5;124;43mout = np.zeros((len(target_cols), 128))\u001b[39;49m\u001b[38;5;130;43;01m\\n\u001b[39;49;00m\u001b[38;5;124;43mfor j, t in enumerate(target_cols):\u001b[39;49m\u001b[38;5;130;43;01m\\n\u001b[39;49;00m\u001b[38;5;124;43m    for i, ix in enumerate(indices):\u001b[39;49m\u001b[38;5;130;43;01m\\n\u001b[39;49;00m\u001b[38;5;124;43m        out[j,i] = ncf.variables[t][ix].data.item()\u001b[39;49m\u001b[38;5;130;43;01m\\n\u001b[39;49;00m\u001b[38;5;124;43m'\u001b[39;49m\u001b[43m)\u001b[49m\n",
      "File \u001b[0;32m~/.conda/envs/torch/lib/python3.9/site-packages/IPython/core/interactiveshell.py:2347\u001b[0m, in \u001b[0;36mInteractiveShell.run_cell_magic\u001b[0;34m(self, magic_name, line, cell)\u001b[0m\n\u001b[1;32m   2345\u001b[0m \u001b[38;5;28;01mwith\u001b[39;00m \u001b[38;5;28mself\u001b[39m\u001b[38;5;241m.\u001b[39mbuiltin_trap:\n\u001b[1;32m   2346\u001b[0m     args \u001b[38;5;241m=\u001b[39m (magic_arg_s, cell)\n\u001b[0;32m-> 2347\u001b[0m     result \u001b[38;5;241m=\u001b[39m \u001b[43mfn\u001b[49m\u001b[43m(\u001b[49m\u001b[38;5;241;43m*\u001b[39;49m\u001b[43margs\u001b[49m\u001b[43m,\u001b[49m\u001b[43m \u001b[49m\u001b[38;5;241;43m*\u001b[39;49m\u001b[38;5;241;43m*\u001b[39;49m\u001b[43mkwargs\u001b[49m\u001b[43m)\u001b[49m\n\u001b[1;32m   2348\u001b[0m \u001b[38;5;28;01mreturn\u001b[39;00m result\n",
      "File \u001b[0;32m~/.conda/envs/torch/lib/python3.9/site-packages/IPython/core/magics/execution.py:1162\u001b[0m, in \u001b[0;36mExecutionMagics.timeit\u001b[0;34m(self, line, cell, local_ns)\u001b[0m\n\u001b[1;32m   1160\u001b[0m \u001b[38;5;28;01mfor\u001b[39;00m index \u001b[38;5;129;01min\u001b[39;00m \u001b[38;5;28mrange\u001b[39m(\u001b[38;5;241m0\u001b[39m, \u001b[38;5;241m10\u001b[39m):\n\u001b[1;32m   1161\u001b[0m     number \u001b[38;5;241m=\u001b[39m \u001b[38;5;241m10\u001b[39m \u001b[38;5;241m*\u001b[39m\u001b[38;5;241m*\u001b[39m index\n\u001b[0;32m-> 1162\u001b[0m     time_number \u001b[38;5;241m=\u001b[39m \u001b[43mtimer\u001b[49m\u001b[38;5;241;43m.\u001b[39;49m\u001b[43mtimeit\u001b[49m\u001b[43m(\u001b[49m\u001b[43mnumber\u001b[49m\u001b[43m)\u001b[49m\n\u001b[1;32m   1163\u001b[0m     \u001b[38;5;28;01mif\u001b[39;00m time_number \u001b[38;5;241m>\u001b[39m\u001b[38;5;241m=\u001b[39m \u001b[38;5;241m0.2\u001b[39m:\n\u001b[1;32m   1164\u001b[0m         \u001b[38;5;28;01mbreak\u001b[39;00m\n",
      "File \u001b[0;32m~/.conda/envs/torch/lib/python3.9/site-packages/IPython/core/magics/execution.py:156\u001b[0m, in \u001b[0;36mTimer.timeit\u001b[0;34m(self, number)\u001b[0m\n\u001b[1;32m    154\u001b[0m gc\u001b[38;5;241m.\u001b[39mdisable()\n\u001b[1;32m    155\u001b[0m \u001b[38;5;28;01mtry\u001b[39;00m:\n\u001b[0;32m--> 156\u001b[0m     timing \u001b[38;5;241m=\u001b[39m \u001b[38;5;28;43mself\u001b[39;49m\u001b[38;5;241;43m.\u001b[39;49m\u001b[43minner\u001b[49m\u001b[43m(\u001b[49m\u001b[43mit\u001b[49m\u001b[43m,\u001b[49m\u001b[43m \u001b[49m\u001b[38;5;28;43mself\u001b[39;49m\u001b[38;5;241;43m.\u001b[39;49m\u001b[43mtimer\u001b[49m\u001b[43m)\u001b[49m\n\u001b[1;32m    157\u001b[0m \u001b[38;5;28;01mfinally\u001b[39;00m:\n\u001b[1;32m    158\u001b[0m     \u001b[38;5;28;01mif\u001b[39;00m gcold:\n",
      "File \u001b[0;32m<magic-timeit>:2\u001b[0m, in \u001b[0;36minner\u001b[0;34m(_it, _timer)\u001b[0m\n",
      "\u001b[0;31mNameError\u001b[0m: name 'dl' is not defined"
     ]
    }
   ],
   "source": [
    "%%timeit\n",
    "dd = []\n",
    "x = next(iter(dl))\n",
    "indices = [ idx.inverse4(i) for i in x.numpy()]\n",
    "\n",
    "out = np.zeros((len(target_cols), 128))\n",
    "for j, t in enumerate(target_cols):\n",
    "    for i, ix in enumerate(indices):\n",
    "        out[j,i] = ncf.variables[t][ix].data.item()"
   ]
  },
  {
   "cell_type": "code",
   "execution_count": 27,
   "id": "174f13eb-cd05-47cf-9968-d65aa327d21a",
   "metadata": {},
   "outputs": [
    {
     "data": {
      "text/plain": [
       "masked_array(data=2.637307e-10,\n",
       "             mask=False,\n",
       "       fill_value=1e+20,\n",
       "            dtype=float32)"
      ]
     },
     "execution_count": 27,
     "metadata": {},
     "output_type": "execute_result"
    }
   ],
   "source": [
    "ncf.variables['PM25'][indices[0]]"
   ]
  },
  {
   "cell_type": "code",
   "execution_count": 1,
   "id": "bbeb3de7-3e4c-4c2f-b65c-a64015f9d1a7",
   "metadata": {},
   "outputs": [
    {
     "ename": "NameError",
     "evalue": "name 'tmp' is not defined",
     "output_type": "error",
     "traceback": [
      "\u001b[0;31m---------------------------------------------------------------------------\u001b[0m",
      "\u001b[0;31mNameError\u001b[0m                                 Traceback (most recent call last)",
      "Input \u001b[0;32mIn [1]\u001b[0m, in \u001b[0;36m<cell line: 1>\u001b[0;34m()\u001b[0m\n\u001b[0;32m----> 1\u001b[0m \u001b[43mtmp\u001b[49m[:,\u001b[38;5;241m0\u001b[39m]\n",
      "\u001b[0;31mNameError\u001b[0m: name 'tmp' is not defined"
     ]
    }
   ],
   "source": [
    "tmp[:,0]"
   ]
  },
  {
   "cell_type": "code",
   "execution_count": 19,
   "id": "0285d413-4b0e-41f4-a203-014d39927f6d",
   "metadata": {},
   "outputs": [
    {
     "data": {
      "text/plain": [
       "3.771856427192688"
      ]
     },
     "execution_count": 19,
     "metadata": {},
     "output_type": "execute_result"
    }
   ],
   "source": [
    "150*150*150*150* 8 / 1024 / 1024 / 1024"
   ]
  },
  {
   "cell_type": "code",
   "execution_count": 20,
   "id": "8223b0be-f22c-4cd1-b0fc-de25b9560b2a",
   "metadata": {},
   "outputs": [
    {
     "ename": "SyntaxError",
     "evalue": "invalid syntax (3977600041.py, line 9)",
     "output_type": "error",
     "traceback": [
      "\u001b[0;36m  Input \u001b[0;32mIn [20]\u001b[0;36m\u001b[0m\n\u001b[0;31m    out[:,i] = self.ncf[t][*idx]\u001b[0m\n\u001b[0m                               ^\u001b[0m\n\u001b[0;31mSyntaxError\u001b[0m\u001b[0;31m:\u001b[0m invalid syntax\n"
     ]
    }
   ],
   "source": [
    "class AEDataset:\n",
    "    def __init__(self,filename,target):\n",
    "        super().__init__()\n",
    "        self.ncf = Dataset(filename, \"r\", format=\"NETCDF4\")\n",
    "        self.target = target\n",
    "    def __getitem__(self,idx):\n",
    "        out = np.zeros((1, len(self.target)))\n",
    "        for i,t in enumerate(self.target):\n",
    "            out[:,i] = self.ncf[t][]\n",
    "        return out\n",
    "    def __len__(self):\n",
    "        return 132"
   ]
  },
  {
   "cell_type": "code",
   "execution_count": null,
   "id": "c6a81386-c056-4742-8ef8-38e43581ef6c",
   "metadata": {},
   "outputs": [],
   "source": []
  }
 ],
 "metadata": {
  "kernelspec": {
   "display_name": "torch",
   "language": "python",
   "name": "torch"
  },
  "language_info": {
   "codemirror_mode": {
    "name": "ipython",
    "version": 3
   },
   "file_extension": ".py",
   "mimetype": "text/x-python",
   "name": "python",
   "nbconvert_exporter": "python",
   "pygments_lexer": "ipython3",
   "version": "3.9.12"
  }
 },
 "nbformat": 4,
 "nbformat_minor": 5
}
