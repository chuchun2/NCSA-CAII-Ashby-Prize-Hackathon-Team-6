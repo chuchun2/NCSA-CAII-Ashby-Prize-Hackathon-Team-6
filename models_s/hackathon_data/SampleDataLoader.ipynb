{
 "cells": [
  {
   "cell_type": "code",
   "execution_count": 27,
   "id": "03fd94bd-c273-4a4d-92de-370c63066a2d",
   "metadata": {},
   "outputs": [],
   "source": [
    "import torch\n",
    "import numpy as np\n",
    "from torch.utils.data import DataLoader\n",
    "import matplotlib.pyplot as plt"
   ]
  },
  {
   "cell_type": "code",
   "execution_count": 2,
   "id": "7a953bb6-3acd-4838-9d1b-a929f02275bf",
   "metadata": {},
   "outputs": [],
   "source": [
    "timestep = 0\n",
    "NBOX = 39 * 159 * 169"
   ]
  },
  {
   "cell_type": "code",
   "execution_count": 3,
   "id": "f37526cd-45b1-4135-8eeb-86de5b7bef78",
   "metadata": {},
   "outputs": [],
   "source": [
    "featloc = \"/home/kphadke/hackathon/norm_data_timesteps_feat\"\n",
    "targloc = \"/home/kphadke/hackathon/norm_data_timesteps_targ\"\n",
    "\n",
    "featcols = np.load(f\"{featloc}/x_name.npy\")\n",
    "targcols = np.load(f\"{targloc}/y_name.npy\")\n",
    "\n",
    "\n",
    "feats = np.load(f\"{featloc}/{timestep}feat_norm.npy\")\n",
    "targs = np.load(f\"{targloc}/{timestep}targ_norm.npy\")"
   ]
  },
  {
   "cell_type": "code",
   "execution_count": null,
   "id": "a2acda66-c3de-4cb2-a2a0-3e3972dd9c14",
   "metadata": {},
   "outputs": [],
   "source": [
    "# dd = np.load(\"norm_data/t0_feat.npy\")"
   ]
  },
  {
   "cell_type": "code",
   "execution_count": 15,
   "id": "35edce0c-64c0-4d49-8555-2800a9ca2025",
   "metadata": {},
   "outputs": [
    {
     "data": {
      "text/plain": [
       "(1047969, 103)"
      ]
     },
     "execution_count": 15,
     "metadata": {},
     "output_type": "execute_result"
    }
   ],
   "source": [
    "\n",
    "X = feats.reshape(103, -1).transpose()\n",
    "\n",
    "X.shape"
   ]
  },
  {
   "cell_type": "code",
   "execution_count": 14,
   "id": "426fd375-0460-4a5f-b45f-2c923fc777c8",
   "metadata": {},
   "outputs": [
    {
     "data": {
      "text/plain": [
       "(array([ 84778.,  82936.,  69976.,  77285.,  81761.,  85191.,  91110.,\n",
       "         98939., 134932., 241061.]),\n",
       " array([-1.92097366, -1.59766762, -1.27436159, -0.95105555, -0.62774951,\n",
       "        -0.30444348,  0.01886256,  0.34216859,  0.66547463,  0.98878067,\n",
       "         1.3120867 ]),\n",
       " <BarContainer object of 10 artists>)"
      ]
     },
     "execution_count": 14,
     "metadata": {},
     "output_type": "execute_result"
    },
    {
     "data": {
      "image/png": "[encoded data removed]",
      "text/plain": [
       "<Figure size 432x288 with 1 Axes>"
      ]
     },
     "metadata": {
      "needs_background": "light"
     },
     "output_type": "display_data"
    }
   ],
   "source": [
    "plt.hist(X[:,-3])"
   ]
  },
  {
   "cell_type": "code",
   "execution_count": 6,
   "id": "e637effe-98cb-4b69-8261-be5e93bda006",
   "metadata": {},
   "outputs": [
    {
     "ename": "NameError",
     "evalue": "name 'X' is not defined",
     "output_type": "error",
     "traceback": [
      "\u001b[0;31m---------------------------------------------------------------------------\u001b[0m",
      "\u001b[0;31mNameError\u001b[0m                                 Traceback (most recent call last)",
      "Input \u001b[0;32mIn [6]\u001b[0m, in \u001b[0;36m<cell line: 1>\u001b[0;34m()\u001b[0m\n\u001b[0;32m----> 1\u001b[0m \u001b[43mX\u001b[49m[:,\u001b[38;5;241m0\u001b[39m]\u001b[38;5;241m.\u001b[39mstd()\n",
      "\u001b[0;31mNameError\u001b[0m: name 'X' is not defined"
     ]
    }
   ],
   "source": [
    "X[:,0].std()"
   ]
  },
  {
   "cell_type": "code",
   "execution_count": 5,
   "id": "f1ece6fb-bfb4-40c8-bc91-5630a1cfbd03",
   "metadata": {},
   "outputs": [],
   "source": [
    "exclude_cols = [\"XLONG\", \"XLAT\"]\n",
    "target_cols  = [\"ccn_001\", \"ccn_003\", \"ccn_006\"]\n",
    "\n",
    "target_idx = [np.where(targcols == i)[0].item() for i in target_cols ]\n",
    "feat_idx   = [np.where(featcols == i)[0].item() for i in featcols if i not in exclude_cols]"
   ]
  },
  {
   "cell_type": "code",
   "execution_count": 6,
   "id": "ec1ff11c-77d1-4580-aa66-ee53de3cdfa9",
   "metadata": {},
   "outputs": [
    {
     "data": {
      "text/plain": [
       "(array(['TOT_NUM_CONC', 'TOT_MASS_CONC', 'pmc_SO4', 'pmc_NO3', 'pmc_Cl',\n",
       "        'pmc_NH4', 'pmc_ARO1', 'pmc_ARO2', 'pmc_ALK1', 'pmc_OLE1',\n",
       "        'pmc_API1', 'pmc_API2', 'pmc_LIM1', 'pmc_LIM2', 'pmc_OC', 'pmc_BC',\n",
       "        'pmc_H2O', 'TEMPERATURE', 'REL_HUMID', 'ALT', 'Z', 'h2so4', 'hno3',\n",
       "        'hcl', 'nh3', 'no', 'no2', 'no3', 'n2o5', 'hono', 'hno4', 'o3',\n",
       "        'o1d', 'O3P', 'oh', 'ho2', 'h2o2', 'co', 'so2', 'ch4', 'c2h6',\n",
       "        'ch3o2', 'ethp', 'hcho', 'ch3oh', 'ANOL', 'ch3ooh', 'ETHOOH',\n",
       "        'ald2', 'hcooh', 'RCOOH', 'c2o3', 'pan', 'aro1', 'aro2', 'alk1',\n",
       "        'ole1', 'api1', 'api2', 'lim1', 'lim2', 'par', 'AONE', 'mgly',\n",
       "        'eth', 'OLET', 'OLEI', 'tol', 'xyl', 'cres', 'to2', 'cro', 'open',\n",
       "        'onit', 'rooh', 'ro2', 'ano2', 'nap', 'xo2', 'xpar', 'isop',\n",
       "        'isoprd', 'isopp', 'isopn', 'isopo2', 'api', 'lim', 'dms', 'msa',\n",
       "        'dmso', 'dmso2', 'ch3so2h', 'ch3sch2oo', 'ch3so2', 'ch3so3',\n",
       "        'ch3so2oo', 'ch3so2ch2oo', 'SULFHOX', 'P', 'PB', 'cos(Time)'],\n",
       "       dtype='<U13'),\n",
       " array(['ccn_001', 'ccn_003', 'ccn_006'], dtype='<U11'))"
      ]
     },
     "execution_count": 6,
     "metadata": {},
     "output_type": "execute_result"
    }
   ],
   "source": [
    "featcols[feat_idx], targcols[target_idx]"
   ]
  },
  {
   "cell_type": "code",
   "execution_count": 28,
   "id": "f86d22a4-43b2-42e1-93b3-10f07318fcec",
   "metadata": {},
   "outputs": [],
   "source": [
    "from sklearn.model_selection import train_test_split\n",
    "np.random.seed(52)\n",
    "full_indx = np.arange(133)\n",
    "train_idx, val_idx = train_test_split(full_indx, test_size=0.2, train_size=0.8) "
   ]
  },
  {
   "cell_type": "code",
   "execution_count": 29,
   "id": "55d88ecb-a7cd-4807-9584-92b91c93752e",
   "metadata": {},
   "outputs": [],
   "source": [
    "# my data\n",
    "featloc = \"norm_data\"\n",
    "targloc = \"norm_data\"\n",
    "\n",
    "train_feat_files = [f\"{featloc}/t{t}_feat.npy\" for t in train_idx]\n",
    "val_feat_files   = [f\"{featloc}/{t}_feat.npy\" for t in val_idx  ]\n",
    "\n",
    "train_targ_files = [f\"{targloc}/t{t}_targ.npy\" for t in train_idx]\n",
    "val_targ_files   = [f\"{targloc}/t{t}_targ.npy\" for t in val_idx]"
   ]
  },
  {
   "cell_type": "code",
   "execution_count": 9,
   "id": "5ea3de17-85ed-473b-a868-2905ceaba67b",
   "metadata": {},
   "outputs": [],
   "source": [
    "# # kedar data\n",
    "# train_feat_files = [f\"{featloc}/{t}feat_norm.npy\" for t in train_idx]\n",
    "# val_feat_files   = [f\"{featloc}/{t}feat_norm.npy\" for t in val_idx  ]\n",
    "\n",
    "# train_targ_files = [f\"{targloc}/{t}targ_norm.npy\" for t in train_idx]\n",
    "# val_targ_files   = [f\"{targloc}/{t}targ_norm.npy\" for t in val_idx]"
   ]
  },
  {
   "cell_type": "code",
   "execution_count": 30,
   "id": "9c2715ea-e7e1-4878-9e90-17b3fba7fa71",
   "metadata": {},
   "outputs": [],
   "source": [
    "def prepare_dataloaders(feat_files, targ_files, box_fraction=0.1):\n",
    "    NBOX = 39 * 159 * 169\n",
    "    \n",
    "    num_samples_per_box = int(NBOX * box_fraction)\n",
    "    \n",
    "    d = []\n",
    "    t = []\n",
    "    for f_fn, t_fn in zip(feat_files, targ_files):\n",
    "        # select a fraction of data randomly\n",
    "        sidx = np.random.randint(0, NBOX, num_samples_per_box)\n",
    "        feats = np.load(f_fn)\n",
    "        targs = np.load(t_fn)\n",
    "        \n",
    "        # keep the subset\n",
    "        d.append(feats[sidx])\n",
    "        t.append(targs[sidx])\n",
    "    return np.vstack(d), np.vstack(t)"
   ]
  },
  {
   "cell_type": "code",
   "execution_count": 31,
   "id": "d1dbb988-b549-4e7f-8214-c89c81bb9f46",
   "metadata": {},
   "outputs": [],
   "source": [
    "# %%time\n",
    "train_feat, train_targ = prepare_dataloaders(train_feat_files[:10], train_targ_files[:10], box_fraction=0.1)"
   ]
  },
  {
   "cell_type": "code",
   "execution_count": 32,
   "id": "58fa2d99-82f0-43ce-af2e-da20fc48132f",
   "metadata": {},
   "outputs": [
    {
     "data": {
      "text/plain": [
       "array([[-0.93392634, -1.225394  , -1.3806053 , ..., -1.293118  ,\n",
       "        -1.2949362 ,  0.6087614 ],\n",
       "       [-0.00332903, -0.32949027, -0.22502257, ..., -0.797157  ,\n",
       "        -0.7980082 ,  0.6087614 ],\n",
       "       [-1.051588  , -1.1986759 , -1.2585828 , ..., -1.1752251 ,\n",
       "        -1.1782928 ,  0.6087614 ],\n",
       "       ...,\n",
       "       [-0.5920902 , -0.7402264 , -0.8104994 , ..., -1.0778035 ,\n",
       "        -1.0762073 ,  0.04361939],\n",
       "       [ 2.5839014 ,  2.736919  ,  2.2091472 , ...,  1.284178  ,\n",
       "         1.2849052 ,  0.04361939],\n",
       "       [-0.25849175, -0.8768805 , -1.0030199 , ..., -0.98978007,\n",
       "        -0.99019843,  0.04361939]], dtype=float32)"
      ]
     },
     "execution_count": 32,
     "metadata": {},
     "output_type": "execute_result"
    }
   ],
   "source": [
    "train_feat"
   ]
  },
  {
   "cell_type": "code",
   "execution_count": 33,
   "id": "fbe076e3-b588-4949-b8cf-1eeaf9ba5a33",
   "metadata": {},
   "outputs": [
    {
     "data": {
      "text/plain": [
       "(1047960, 11)"
      ]
     },
     "execution_count": 33,
     "metadata": {},
     "output_type": "execute_result"
    }
   ],
   "source": [
    "train_targ.shape"
   ]
  },
  {
   "cell_type": "code",
   "execution_count": 34,
   "id": "a42592a1-6d8e-4ea5-a1d4-a18cee48d74f",
   "metadata": {},
   "outputs": [],
   "source": [
    "from Models.MLP import SimpleMLP"
   ]
  },
  {
   "cell_type": "code",
   "execution_count": 35,
   "id": "c8dff9d4-8991-4056-9a7b-d0d69c7abc90",
   "metadata": {},
   "outputs": [],
   "source": [
    "tds = torch.utils.data.TensorDataset(\n",
    "    torch.from_numpy(train_feat), \n",
    "    torch.from_numpy(train_targ)\n",
    ")\n",
    "dl_train =torch.utils.data.DataLoader(tds, batch_size=1024, shuffle=True)"
   ]
  },
  {
   "cell_type": "code",
   "execution_count": 36,
   "id": "b4583a69-8f1d-46bc-82e0-00f8640344a8",
   "metadata": {},
   "outputs": [],
   "source": [
    "X, y = next(iter(dl_train))"
   ]
  },
  {
   "cell_type": "code",
   "execution_count": 38,
   "id": "b34e35f1-a0fc-4c7a-b526-1991893d8445",
   "metadata": {},
   "outputs": [
    {
     "data": {
      "image/png": "[encoded data removed]",
      "text/plain": [
       "<Figure size 432x288 with 1 Axes>"
      ]
     },
     "metadata": {
      "needs_background": "light"
     },
     "output_type": "display_data"
    },
    {
     "data": {
      "image/png": "[encoded data removed]",
      "text/plain": [
       "<Figure size 432x288 with 1 Axes>"
      ]
     },
     "metadata": {
      "needs_background": "light"
     },
     "output_type": "display_data"
    },
    {
     "data": {
      "image/png": "[encoded data removed]",
      "text/plain": [
       "<Figure size 432x288 with 1 Axes>"
      ]
     },
     "metadata": {
      "needs_background": "light"
     },
     "output_type": "display_data"
    },
    {
     "data": {
      "image/png": "[encoded data removed]",
      "text/plain": [
       "<Figure size 432x288 with 1 Axes>"
      ]
     },
     "metadata": {
      "needs_background": "light"
     },
     "output_type": "display_data"
    },
    {
     "data": {
      "image/png": "[encoded data removed]",
      "text/plain": [
       "<Figure size 432x288 with 1 Axes>"
      ]
     },
     "metadata": {
      "needs_background": "light"
     },
     "output_type": "display_data"
    },
    {
     "data": {
      "image/png": "[encoded data removed]",
      "text/plain": [
       "<Figure size 432x288 with 1 Axes>"
      ]
     },
     "metadata": {
      "needs_background": "light"
     },
     "output_type": "display_data"
    },
    {
     "data": {
      "image/png": "[encoded data removed]",
      "text/plain": [
       "<Figure size 432x288 with 1 Axes>"
      ]
     },
     "metadata": {
      "needs_background": "light"
     },
     "output_type": "display_data"
    },
    {
     "data": {
      "image/png": "[encoded data removed]",
      "text/plain": [
       "<Figure size 432x288 with 1 Axes>"
      ]
     },
     "metadata": {
      "needs_background": "light"
     },
     "output_type": "display_data"
    },
    {
     "data": {
      "image/png": "[encoded data removed]",
      "text/plain": [
       "<Figure size 432x288 with 1 Axes>"
      ]
     },
     "metadata": {
      "needs_background": "light"
     },
     "output_type": "display_data"
    },
    {
     "data": {
      "image/png": "[encoded data removed]",
      "text/plain": [
       "<Figure size 432x288 with 1 Axes>"
      ]
     },
     "metadata": {
      "needs_background": "light"
     },
     "output_type": "display_data"
    }
   ],
   "source": [
    "for i in range(10):\n",
    "    plt.hist(y[:,i].numpy())\n",
    "    plt.show()"
   ]
  },
  {
   "cell_type": "code",
   "execution_count": null,
   "id": "18627996-0ad8-4510-a8ba-853377f76c7f",
   "metadata": {},
   "outputs": [],
   "source": []
  }
 ],
 "metadata": {
  "kernelspec": {
   "display_name": "Python [conda env:opence-v1.5.1]",
   "language": "python",
   "name": "conda-env-opence-v1.5.1-py"
  },
  "language_info": {
   "codemirror_mode": {
    "name": "ipython",
    "version": 3
   },
   "file_extension": ".py",
   "mimetype": "text/x-python",
   "name": "python",
   "nbconvert_exporter": "python",
   "pygments_lexer": "ipython3",
   "version": "3.9.12"
  }
 },
 "nbformat": 4,
 "nbformat_minor": 5
}
