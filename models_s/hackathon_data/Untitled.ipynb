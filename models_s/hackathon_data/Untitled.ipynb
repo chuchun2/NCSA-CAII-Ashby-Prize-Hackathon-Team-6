{
 "cells": [
  {
   "cell_type": "code",
   "execution_count": null,
   "id": "b0ea8985-3255-43a5-939c-bb8512afd0af",
   "metadata": {},
   "outputs": [],
   "source": []
  }
 ],
 "metadata": {
  "kernelspec": {
   "display_name": "torch",
   "language": "python",
   "name": "torch"
  },
  "language_info": {
   "codemirror_mode": {
    "name": "ipython",
    "version": 3
   },
   "file_extension": ".py",
   "mimetype": "text/x-python",
   "name": "python",
   "nbconvert_exporter": "python",
   "pygments_lexer": "ipython3",
   "version": "3.9.12"
  }
 },
 "nbformat": 4,
 "nbformat_minor": 5
}
