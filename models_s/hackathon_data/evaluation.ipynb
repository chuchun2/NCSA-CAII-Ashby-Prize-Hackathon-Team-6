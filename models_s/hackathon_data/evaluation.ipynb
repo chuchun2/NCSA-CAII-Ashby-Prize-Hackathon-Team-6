{
 "cells": [
  {
   "cell_type": "code",
   "execution_count": 1,
   "id": "72e3625d-319d-4158-b745-dd2f29b66352",
   "metadata": {},
   "outputs": [
    {
     "name": "stderr",
     "output_type": "stream",
     "text": [
      "/opt/miniconda3/envs/opence-v1.5.1/lib/python3.9/site-packages/tqdm/auto.py:22: TqdmWarning: IProgress not found. Please update jupyter and ipywidgets. See https://ipywidgets.readthedocs.io/en/stable/user_install.html\n",
      "  from .autonotebook import tqdm as notebook_tqdm\n"
     ]
    }
   ],
   "source": [
    "# evaluate TAB\n",
    "from torch.utils.data import TensorDataset\n",
    "import torch\n",
    "import numpy as np\n",
    "import time\n",
    "from tqdm import tqdm"
   ]
  },
  {
   "cell_type": "code",
   "execution_count": 2,
   "id": "afcba95d-0681-4971-8701-2f4905d06ba9",
   "metadata": {},
   "outputs": [],
   "source": [
    "feat_cols = ['TOT_NUM_CONC',\n",
    " 'TOT_MASS_CONC',\n",
    " 'pmc_SO4',\n",
    " 'pmc_NO3',\n",
    " 'pmc_Cl',\n",
    " 'pmc_NH4',\n",
    " 'pmc_ARO1',\n",
    " 'pmc_ARO2',\n",
    " 'pmc_ALK1',\n",
    " 'pmc_OLE1',\n",
    " 'pmc_API1',\n",
    " 'pmc_API2',\n",
    " 'pmc_LIM1',\n",
    " 'pmc_LIM2',\n",
    " 'pmc_OC',\n",
    " 'pmc_BC',\n",
    " 'pmc_H2O',\n",
    " 'TEMPERATURE',\n",
    " 'REL_HUMID',\n",
    " 'ALT',\n",
    " 'Z',\n",
    "#  'XLAT',\n",
    "#  'XLONG',\n",
    " 'h2so4',\n",
    " 'hno3',\n",
    " 'hcl',\n",
    " 'nh3',\n",
    " 'no',\n",
    " 'no2',\n",
    " 'no3',\n",
    " 'n2o5',\n",
    " 'hono',\n",
    " 'hno4',\n",
    " 'o3',\n",
    " 'o1d',\n",
    " 'O3P',\n",
    " 'oh',\n",
    " 'ho2',\n",
    " 'h2o2',\n",
    " 'co',\n",
    " 'so2',\n",
    " 'ch4',\n",
    " 'c2h6',\n",
    " 'ch3o2',\n",
    " 'ethp',\n",
    " 'hcho',\n",
    " 'ch3oh',\n",
    " 'ANOL',\n",
    " 'ch3ooh',\n",
    " 'ETHOOH',\n",
    " 'ald2',\n",
    " 'hcooh',\n",
    " 'RCOOH',\n",
    " 'c2o3',\n",
    " 'pan',\n",
    " 'aro1',\n",
    " 'aro2',\n",
    " 'alk1',\n",
    " 'ole1',\n",
    " 'api1',\n",
    " 'api2',\n",
    " 'lim1',\n",
    " 'lim2',\n",
    " 'par',\n",
    " 'AONE',\n",
    " 'mgly',\n",
    " 'eth',\n",
    " 'OLET',\n",
    " 'OLEI',\n",
    " 'tol',\n",
    " 'xyl',\n",
    " 'cres',\n",
    " 'to2',\n",
    " 'cro',\n",
    " 'open',\n",
    " 'onit',\n",
    " 'rooh',\n",
    " 'ro2',\n",
    " 'ano2',\n",
    " 'nap',\n",
    " 'xo2',\n",
    " 'xpar',\n",
    " 'isop',\n",
    " 'isoprd',\n",
    " 'isopp',\n",
    " 'isopn',\n",
    " 'isopo2',\n",
    " 'api',\n",
    " 'lim',\n",
    " 'dms',\n",
    " 'msa',\n",
    " 'dmso',\n",
    " 'dmso2',\n",
    " 'ch3so2h',\n",
    " 'ch3sch2oo',\n",
    " 'ch3so2',\n",
    " 'ch3so3',\n",
    " 'ch3so2oo',\n",
    " 'ch3so2ch2oo',\n",
    " 'SULFHOX',\n",
    " 'P',\n",
    " 'PB']\n",
    "\n",
    "target_cols = [\n",
    "    'ccn_001',\n",
    "     'ccn_003',\n",
    "     'ccn_006',\n",
    "     'CHI',\n",
    "     'CHI_CCN',\n",
    "     'D_ALPHA',\n",
    "     'D_GAMMA',\n",
    "     'D_ALPHA_CCN',\n",
    "     'D_GAMMA_CCN',\n",
    "     'PM25'\n",
    "]"
   ]
  },
  {
   "cell_type": "code",
   "execution_count": 7,
   "id": "75984e45-69ad-49e4-b9a9-4c1a3841f7d0",
   "metadata": {},
   "outputs": [],
   "source": [
    "from Models.MLP import SimpleMLP, predictions, val_step"
   ]
  },
  {
   "cell_type": "code",
   "execution_count": 19,
   "id": "81337363-3cef-4a5d-a534-3da60f0366b7",
   "metadata": {},
   "outputs": [],
   "source": [
    "mlp_model = torch.load(\"2100_mlp.pt\")"
   ]
  },
  {
   "cell_type": "code",
   "execution_count": 9,
   "id": "b57423de-4453-4f94-b0e8-83da2ef71240",
   "metadata": {},
   "outputs": [],
   "source": [
    "feats = np.load('numpy_data/t0_feat.npy')\n",
    "targs = np.load('numpy_data/t0_targ.npy')\n",
    "\n",
    "tds = TensorDataset( torch.from_numpy(feats), torch.from_numpy(targs) )\n",
    "\n",
    "means = {}\n",
    "stds  = {}\n",
    "mins  = {}\n",
    "for i, f in enumerate(feat_cols):\n",
    "    tmp = feats[:,i]\n",
    "    d = tmp[tmp>0]\n",
    "    means[f] = np.log(d).mean()\n",
    "    stds[f]  = np.log(d).std()\n",
    "    \n",
    "    mins[f] = np.exp(np.log(d).min())\n",
    "    \n",
    "for i, f in enumerate(target_cols):\n",
    "    tmp = targs[:,i]\n",
    "    d = tmp[tmp>0]\n",
    "    means[f] = np.log(d).mean()\n",
    "    stds[f]  = np.log(d).std()\n",
    "    \n",
    "    mins[f] = np.exp(np.log(d).min())\n",
    "\n",
    "feat_mean_list = torch.from_numpy(np.array([means[f] for f in feat_cols]))\n",
    "feat_std_list = torch.from_numpy(np.array([stds[f] for f in feat_cols]))\n",
    "feat_min_list = torch.from_numpy(np.array([mins[f] for f in feat_cols]))\n",
    "\n",
    "targ_mean_list = torch.from_numpy(np.array([means[f] for f in target_cols]))\n",
    "targ_std_list = torch.from_numpy(np.array([stds[f] for f in target_cols]))\n",
    "targ_min_list = torch.from_numpy(np.array([mins[f] for f in target_cols]))"
   ]
  },
  {
   "cell_type": "code",
   "execution_count": null,
   "id": "a4131a05-690b-4cd6-a892-f89a46a78b68",
   "metadata": {},
   "outputs": [],
   "source": [
    "tds = ConcatDataset(allds[::2])\n",
    "\n",
    "L = len(tds)\n",
    "ntrain = int(L * 0.8)\n",
    "nval   = int(L * 0.1)\n",
    "ntest  = L - ntrain - nval\n",
    "\n",
    "bsz = 256\n",
    "\n",
    "ds_train, ds_val, ds_test = torch.utils.data.random_split(tds, [ntrain, nval, ntest], generator=torch.Generator().manual_seed(42))\n",
    "dl_train =torch.utils.data.DataLoader(ds_train, batch_size=bsz, shuffle=True, )\n",
    "dl_val =torch.utils.data.DataLoader(ds_val, batch_size=bsz, shuffle=False, )\n",
    "dl_test =torch.utils.data.DataLoader(ds_test, batch_size=bsz, shuffle=False, )"
   ]
  },
  {
   "cell_type": "code",
   "execution_count": 11,
   "id": "ce6f5d85-002a-423b-bd1a-a0114dae934e",
   "metadata": {},
   "outputs": [],
   "source": [
    "dl = torch.utils.data.DataLoader(tds, batch_size=256 )"
   ]
  },
  {
   "cell_type": "code",
   "execution_count": 14,
   "id": "44961d85-ca6c-4f2f-9b20-d6ee15f3ccb1",
   "metadata": {},
   "outputs": [],
   "source": [
    "def loss_fn(ypred, y):\n",
    "    return ((ypred-y)**2).mean()\n",
    "\n",
    "@torch.no_grad()\n",
    "def val_step(dl, model):\n",
    "    tstart = time.time()\n",
    "    total_loss = 0\n",
    "    for X, y in tqdm(dl):\n",
    "        model.eval()\n",
    "        padded = torch.where(X < feat_min_list.unsqueeze(0), feat_min_list.unsqueeze(0), X)\n",
    "        Xpad_norm = (padded.log() - feat_mean_list)/ feat_std_list\n",
    "\n",
    "        padded = torch.where(y < targ_min_list.unsqueeze(0), targ_min_list.unsqueeze(0), y)\n",
    "        ypad_norm = (padded.log() - targ_mean_list)/ targ_std_list\n",
    "\n",
    "        ypred = model(Xpad_norm.cuda())\n",
    "\n",
    "        loss = loss_fn(ypred, ypad_norm.cuda())\n",
    "        total_loss += loss.item()\n",
    "    return total_loss/ len(dl) , time.time() - tstart"
   ]
  },
  {
   "cell_type": "code",
   "execution_count": 15,
   "id": "198ddfdc-7a54-4798-a8ac-d82366d84eec",
   "metadata": {},
   "outputs": [
    {
     "name": "stderr",
     "output_type": "stream",
     "text": [
      "100%|██████████| 4094/4094 [00:40<00:00, 100.80it/s]\n"
     ]
    },
    {
     "data": {
      "text/plain": [
       "(0.037853904605447755, 40.67121481895447)"
      ]
     },
     "execution_count": 15,
     "metadata": {},
     "output_type": "execute_result"
    }
   ],
   "source": [
    "val_step(dl, mlp_model)"
   ]
  },
  {
   "cell_type": "code",
   "execution_count": 17,
   "id": "f5d78562-edca-4444-b324-c2172e7b1e62",
   "metadata": {},
   "outputs": [
    {
     "name": "stderr",
     "output_type": "stream",
     "text": [
      "100%|██████████| 4094/4094 [00:29<00:00, 139.27it/s]\n"
     ]
    },
    {
     "data": {
      "text/plain": [
       "(0.03156511715120119, 29.403302669525146)"
      ]
     },
     "execution_count": 17,
     "metadata": {},
     "output_type": "execute_result"
    }
   ],
   "source": [
    "val_step(dl, mlp_model)"
   ]
  },
  {
   "cell_type": "code",
   "execution_count": 20,
   "id": "cf160992-a584-4c0d-8778-393d3efb57e5",
   "metadata": {},
   "outputs": [
    {
     "name": "stderr",
     "output_type": "stream",
     "text": [
      "100%|██████████| 4094/4094 [00:33<00:00, 120.68it/s]\n"
     ]
    },
    {
     "data": {
      "text/plain": [
       "(0.03191129043998591, 33.957342863082886)"
      ]
     },
     "execution_count": 20,
     "metadata": {},
     "output_type": "execute_result"
    }
   ],
   "source": [
    "val_step(dl, mlp_model)"
   ]
  },
  {
   "cell_type": "code",
   "execution_count": null,
   "id": "97f48c6f-92b3-4bee-adf4-86ada84bad0b",
   "metadata": {},
   "outputs": [],
   "source": []
  }
 ],
 "metadata": {
  "kernelspec": {
   "display_name": "Python [conda env:opence-v1.5.1]",
   "language": "python",
   "name": "conda-env-opence-v1.5.1-py"
  },
  "language_info": {
   "codemirror_mode": {
    "name": "ipython",
    "version": 3
   },
   "file_extension": ".py",
   "mimetype": "text/x-python",
   "name": "python",
   "nbconvert_exporter": "python",
   "pygments_lexer": "ipython3",
   "version": "3.9.12"
  }
 },
 "nbformat": 4,
 "nbformat_minor": 5
}
