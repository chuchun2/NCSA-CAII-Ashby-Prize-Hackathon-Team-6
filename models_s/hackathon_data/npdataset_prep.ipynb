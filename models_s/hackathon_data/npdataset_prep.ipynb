{
 "cells": [
  {
   "cell_type": "code",
   "execution_count": 2,
   "id": "83e385f3-6044-45b9-9fbc-5435c7c0f55b",
   "metadata": {},
   "outputs": [],
   "source": [
    "import xarray as xr"
   ]
  },
  {
   "cell_type": "code",
   "execution_count": 3,
   "id": "7e074c46-0e72-4df7-83d7-99b65f2ffb18",
   "metadata": {},
   "outputs": [],
   "source": [
    "feat_cols = ['TOT_NUM_CONC',\n",
    " 'TOT_MASS_CONC',\n",
    " 'pmc_SO4',\n",
    " 'pmc_NO3',\n",
    " 'pmc_Cl',\n",
    " 'pmc_NH4',\n",
    " 'pmc_ARO1',\n",
    " 'pmc_ARO2',\n",
    " 'pmc_ALK1',\n",
    " 'pmc_OLE1',\n",
    " 'pmc_API1',\n",
    " 'pmc_API2',\n",
    " 'pmc_LIM1',\n",
    " 'pmc_LIM2',\n",
    " 'pmc_OC',\n",
    " 'pmc_BC',\n",
    " 'pmc_H2O',\n",
    " 'TEMPERATURE',\n",
    " 'REL_HUMID',\n",
    " 'ALT',\n",
    " 'Z',\n",
    "#  'XLAT',\n",
    "#  'XLONG',\n",
    " 'h2so4',\n",
    " 'hno3',\n",
    " 'hcl',\n",
    " 'nh3',\n",
    " 'no',\n",
    " 'no2',\n",
    " 'no3',\n",
    " 'n2o5',\n",
    " 'hono',\n",
    " 'hno4',\n",
    " 'o3',\n",
    " 'o1d',\n",
    " 'O3P',\n",
    " 'oh',\n",
    " 'ho2',\n",
    " 'h2o2',\n",
    " 'co',\n",
    " 'so2',\n",
    " 'ch4',\n",
    " 'c2h6',\n",
    " 'ch3o2',\n",
    " 'ethp',\n",
    " 'hcho',\n",
    " 'ch3oh',\n",
    " 'ANOL',\n",
    " 'ch3ooh',\n",
    " 'ETHOOH',\n",
    " 'ald2',\n",
    " 'hcooh',\n",
    " 'RCOOH',\n",
    " 'c2o3',\n",
    " 'pan',\n",
    " 'aro1',\n",
    " 'aro2',\n",
    " 'alk1',\n",
    " 'ole1',\n",
    " 'api1',\n",
    " 'api2',\n",
    " 'lim1',\n",
    " 'lim2',\n",
    " 'par',\n",
    " 'AONE',\n",
    " 'mgly',\n",
    " 'eth',\n",
    " 'OLET',\n",
    " 'OLEI',\n",
    " 'tol',\n",
    " 'xyl',\n",
    " 'cres',\n",
    " 'to2',\n",
    " 'cro',\n",
    " 'open',\n",
    " 'onit',\n",
    " 'rooh',\n",
    " 'ro2',\n",
    " 'ano2',\n",
    " 'nap',\n",
    " 'xo2',\n",
    " 'xpar',\n",
    " 'isop',\n",
    " 'isoprd',\n",
    " 'isopp',\n",
    " 'isopn',\n",
    " 'isopo2',\n",
    " 'api',\n",
    " 'lim',\n",
    " 'dms',\n",
    " 'msa',\n",
    " 'dmso',\n",
    " 'dmso2',\n",
    " 'ch3so2h',\n",
    " 'ch3sch2oo',\n",
    " 'ch3so2',\n",
    " 'ch3so3',\n",
    " 'ch3so2oo',\n",
    " 'ch3so2ch2oo',\n",
    " 'SULFHOX',\n",
    " 'P',\n",
    " 'PB']\n",
    "\n",
    "target_cols = [\n",
    "    'ccn_001',\n",
    "     'ccn_003',\n",
    "     'ccn_006',\n",
    "     'CHI',\n",
    "     'CHI_CCN',\n",
    "     'D_ALPHA',\n",
    "     'D_GAMMA',\n",
    "     'D_ALPHA_CCN',\n",
    "     'D_GAMMA_CCN',\n",
    "     'PM25'\n",
    "]"
   ]
  },
  {
   "cell_type": "markdown",
   "id": "84854c27-0b4f-4e92-a4ad-6e85b0a4c17d",
   "metadata": {},
   "source": [
    "# Reading With Xarray"
   ]
  },
  {
   "cell_type": "code",
   "execution_count": 11,
   "id": "200b0c33-7c94-4e70-81c2-6a1bd7091eb6",
   "metadata": {},
   "outputs": [],
   "source": [
    "ds_training = xr.open_dataset(\"training.nc\")"
   ]
  },
  {
   "cell_type": "code",
   "execution_count": 23,
   "id": "3d762fce-3593-4395-833f-d5a62e1e82dd",
   "metadata": {},
   "outputs": [],
   "source": [
    "da = ds_training[['ccn_001', 'ccn_003']].sel(\n",
    "    Time=xr.DataArray([30, 1], dims=\"z\"), \n",
    "    south_north=xr.DataArray([10, 19], dims=\"z\"),\n",
    "    west_east=xr.DataArray([20, 9], dims=\"z\",),\n",
    "    bottom_top=xr.DataArray([3,23],dims='z')\n",
    ")"
   ]
  },
  {
   "cell_type": "code",
   "execution_count": 37,
   "id": "71551228-2ea3-48ae-9cd7-8bbe94e83c08",
   "metadata": {},
   "outputs": [],
   "source": [
    "t = da.to_array().to_numpy()"
   ]
  },
  {
   "cell_type": "code",
   "execution_count": 52,
   "id": "fd5fa021-e8ab-4a43-bcc7-0adf75c5f467",
   "metadata": {},
   "outputs": [
    {
     "data": {
      "text/plain": [
       "(array([0, 0]), array([0, 0]), array([1, 1]), array([ 44, 144]))"
      ]
     },
     "execution_count": 52,
     "metadata": {},
     "output_type": "execute_result"
    }
   ],
   "source": [
    "class Indexer:\n",
    "    def __init__(self, ndims):\n",
    "        self.ndims = ndims\n",
    "    def idx4(self, a):\n",
    "        t, k, j, i = a\n",
    "        nt, nz, ny, nx = self.ndims\n",
    "        return ((nz*t + k)*ny + j)*nx + i\n",
    "    def inverse4(self, ix):\n",
    "        nt, nz, ny, nx = self.ndims\n",
    "        total = nz*ny*nx\n",
    "        t = ix// total\n",
    "        ix = ix % total\n",
    "        \n",
    "        total = ny*nx\n",
    "        k = ix // total\n",
    "        ix = ix % total\n",
    "        \n",
    "        total = nx\n",
    "        j = ix//total\n",
    "        i = ix % total\n",
    "        return (t,k,j,i)\n",
    "idxer = Indexer(ds_training['ccn_001'].shape)\n",
    "import numpy as np\n",
    "idxer.inverse4( np.array([213,313]) )"
   ]
  },
  {
   "cell_type": "code",
   "execution_count": 56,
   "id": "f0ea7c66-53a8-4ba0-88f8-72428f07a98f",
   "metadata": {},
   "outputs": [
    {
     "data": {
      "text/plain": [
       "True"
      ]
     },
     "execution_count": 56,
     "metadata": {},
     "output_type": "execute_result"
    }
   ],
   "source": [
    "isinstance(np.array([213,313]), np.ndarray)"
   ]
  },
  {
   "cell_type": "code",
   "execution_count": 62,
   "id": "d13c2b13-95bd-4091-83eb-a07ae06e5282",
   "metadata": {},
   "outputs": [],
   "source": [
    "class RegDataset:\n",
    "    def __init__(self,filename,features,target):\n",
    "        super().__init__()\n",
    "        self.ncf = xr.open_dataset(filename)\n",
    "        self.target = target\n",
    "        self.feat   = features\n",
    "        self.ixer   = idxer = Indexer(self.ncf['ccn_001'].shape)\n",
    "        \n",
    "    def __getitem__(self,idxes):\n",
    "        assert isinstance(idxes, np.ndarray)\n",
    "        ix4 = self.ixer.inverse4(idxes)\n",
    "        tidx = xr.DataArray(ix4[0], dims=\"z\")\n",
    "        zidx = xr.DataArray(ix4[1], dims=\"z\")\n",
    "        yidx = xr.DataArray(ix4[2], dims=\"z\")\n",
    "        xidx = xr.DataArray(ix4[3], dims=\"z\")\n",
    "        \n",
    "        da = ds_training[self.feat].sel(\n",
    "            Time=tidx,\n",
    "            bottom_top=zidx,\n",
    "            south_north =yidx,\n",
    "            west_east=xidx,\n",
    "        )\n",
    "        return da.to_array().to_numpy()\n",
    "        \n",
    "    def __len__(self):\n",
    "        return NMAX"
   ]
  },
  {
   "cell_type": "code",
   "execution_count": 63,
   "id": "d2b327f7-7b70-4279-b415-e174ce2fd507",
   "metadata": {},
   "outputs": [
    {
     "data": {
      "text/plain": [
       "<__main__.RegDataset at 0x7fff44fff6d0>"
      ]
     },
     "execution_count": 63,
     "metadata": {},
     "output_type": "execute_result"
    }
   ],
   "source": [
    "ds = RegDataset(wrf_filename, feat_cols, target_cols)\n",
    "ds"
   ]
  },
  {
   "cell_type": "code",
   "execution_count": 70,
   "id": "79dddb6b-5d2d-42a1-bc75-f50ac2f46c73",
   "metadata": {},
   "outputs": [
    {
     "data": {
      "text/plain": [
       "139379877"
      ]
     },
     "execution_count": 70,
     "metadata": {},
     "output_type": "execute_result"
    }
   ],
   "source": [
    "np.prod(ds.ncf['ccn_001'].shape)"
   ]
  },
  {
   "cell_type": "code",
   "execution_count": 80,
   "id": "6f95b78c-cb80-42a1-b9ef-86b20fe5236c",
   "metadata": {},
   "outputs": [
    {
     "name": "stdout",
     "output_type": "stream",
     "text": [
      "2.9 s ± 290 ms per loop (mean ± std. dev. of 7 runs, 1 loop each)\n"
     ]
    }
   ],
   "source": [
    "%%timeit\n",
    "NMAX = 1393798\n",
    "idxes = np.random.randint(0,NMAX,8)\n",
    "ds[idxes]"
   ]
  },
  {
   "cell_type": "code",
   "execution_count": 202,
   "id": "34e6734b-61aa-48e4-97ab-d0b100c45392",
   "metadata": {},
   "outputs": [
    {
     "data": {
      "text/plain": [
       "'PM25'"
      ]
     },
     "execution_count": 202,
     "metadata": {},
     "output_type": "execute_result"
    }
   ],
   "source": [
    "f"
   ]
  },
  {
   "cell_type": "code",
   "execution_count": 203,
   "id": "ccf71ad8-19e8-4ac0-9528-d128db58abb1",
   "metadata": {},
   "outputs": [
    {
     "data": {
      "text/html": [
       "<div><svg style=\"position: absolute; width: 0; height: 0; overflow: hidden\">\n",
       "<defs>\n",
       "<symbol id=\"icon-database\" viewBox=\"0 0 32 32\">\n",
       "<path d=\"M16 0c-8.837 0-16 2.239-16 5v4c0 2.761 7.163 5 16 5s16-2.239 16-5v-4c0-2.761-7.163-5-16-5z\"></path>\n",
       "<path d=\"M16 17c-8.837 0-16-2.239-16-5v6c0 2.761 7.163 5 16 5s16-2.239 16-5v-6c0 2.761-7.163 5-16 5z\"></path>\n",
       "<path d=\"M16 26c-8.837 0-16-2.239-16-5v6c0 2.761 7.163 5 16 5s16-2.239 16-5v-6c0 2.761-7.163 5-16 5z\"></path>\n",
       "</symbol>\n",
       "<symbol id=\"icon-file-text2\" viewBox=\"0 0 32 32\">\n",
       "<path d=\"M28.681 7.159c-0.694-0.947-1.662-2.053-2.724-3.116s-2.169-2.030-3.116-2.724c-1.612-1.182-2.393-1.319-2.841-1.319h-15.5c-1.378 0-2.5 1.121-2.5 2.5v27c0 1.378 1.122 2.5 2.5 2.5h23c1.378 0 2.5-1.122 2.5-2.5v-19.5c0-0.448-0.137-1.23-1.319-2.841zM24.543 5.457c0.959 0.959 1.712 1.825 2.268 2.543h-4.811v-4.811c0.718 0.556 1.584 1.309 2.543 2.268zM28 29.5c0 0.271-0.229 0.5-0.5 0.5h-23c-0.271 0-0.5-0.229-0.5-0.5v-27c0-0.271 0.229-0.5 0.5-0.5 0 0 15.499-0 15.5 0v7c0 0.552 0.448 1 1 1h7v19.5z\"></path>\n",
       "<path d=\"M23 26h-14c-0.552 0-1-0.448-1-1s0.448-1 1-1h14c0.552 0 1 0.448 1 1s-0.448 1-1 1z\"></path>\n",
       "<path d=\"M23 22h-14c-0.552 0-1-0.448-1-1s0.448-1 1-1h14c0.552 0 1 0.448 1 1s-0.448 1-1 1z\"></path>\n",
       "<path d=\"M23 18h-14c-0.552 0-1-0.448-1-1s0.448-1 1-1h14c0.552 0 1 0.448 1 1s-0.448 1-1 1z\"></path>\n",
       "</symbol>\n",
       "</defs>\n",
       "</svg>\n",
       "<style>/* CSS stylesheet for displaying xarray objects in jupyterlab.\n",
       " *\n",
       " */\n",
       "\n",
       ":root {\n",
       "  --xr-font-color0: var(--jp-content-font-color0, rgba(0, 0, 0, 1));\n",
       "  --xr-font-color2: var(--jp-content-font-color2, rgba(0, 0, 0, 0.54));\n",
       "  --xr-font-color3: var(--jp-content-font-color3, rgba(0, 0, 0, 0.38));\n",
       "  --xr-border-color: var(--jp-border-color2, #e0e0e0);\n",
       "  --xr-disabled-color: var(--jp-layout-color3, #bdbdbd);\n",
       "  --xr-background-color: var(--jp-layout-color0, white);\n",
       "  --xr-background-color-row-even: var(--jp-layout-color1, white);\n",
       "  --xr-background-color-row-odd: var(--jp-layout-color2, #eeeeee);\n",
       "}\n",
       "\n",
       "html[theme=dark],\n",
       "body.vscode-dark {\n",
       "  --xr-font-color0: rgba(255, 255, 255, 1);\n",
       "  --xr-font-color2: rgba(255, 255, 255, 0.54);\n",
       "  --xr-font-color3: rgba(255, 255, 255, 0.38);\n",
       "  --xr-border-color: #1F1F1F;\n",
       "  --xr-disabled-color: #515151;\n",
       "  --xr-background-color: #111111;\n",
       "  --xr-background-color-row-even: #111111;\n",
       "  --xr-background-color-row-odd: #313131;\n",
       "}\n",
       "\n",
       ".xr-wrap {\n",
       "  display: block !important;\n",
       "  min-width: 300px;\n",
       "  max-width: 700px;\n",
       "}\n",
       "\n",
       ".xr-text-repr-fallback {\n",
       "  /* fallback to plain text repr when CSS is not injected (untrusted notebook) */\n",
       "  display: none;\n",
       "}\n",
       "\n",
       ".xr-header {\n",
       "  padding-top: 6px;\n",
       "  padding-bottom: 6px;\n",
       "  margin-bottom: 4px;\n",
       "  border-bottom: solid 1px var(--xr-border-color);\n",
       "}\n",
       "\n",
       ".xr-header > div,\n",
       ".xr-header > ul {\n",
       "  display: inline;\n",
       "  margin-top: 0;\n",
       "  margin-bottom: 0;\n",
       "}\n",
       "\n",
       ".xr-obj-type,\n",
       ".xr-array-name {\n",
       "  margin-left: 2px;\n",
       "  margin-right: 10px;\n",
       "}\n",
       "\n",
       ".xr-obj-type {\n",
       "  color: var(--xr-font-color2);\n",
       "}\n",
       "\n",
       ".xr-sections {\n",
       "  padding-left: 0 !important;\n",
       "  display: grid;\n",
       "  grid-template-columns: 150px auto auto 1fr 20px 20px;\n",
       "}\n",
       "\n",
       ".xr-section-item {\n",
       "  display: contents;\n",
       "}\n",
       "\n",
       ".xr-section-item input {\n",
       "  display: none;\n",
       "}\n",
       "\n",
       ".xr-section-item input + label {\n",
       "  color: var(--xr-disabled-color);\n",
       "}\n",
       "\n",
       ".xr-section-item input:enabled + label {\n",
       "  cursor: pointer;\n",
       "  color: var(--xr-font-color2);\n",
       "}\n",
       "\n",
       ".xr-section-item input:enabled + label:hover {\n",
       "  color: var(--xr-font-color0);\n",
       "}\n",
       "\n",
       ".xr-section-summary {\n",
       "  grid-column: 1;\n",
       "  color: var(--xr-font-color2);\n",
       "  font-weight: 500;\n",
       "}\n",
       "\n",
       ".xr-section-summary > span {\n",
       "  display: inline-block;\n",
       "  padding-left: 0.5em;\n",
       "}\n",
       "\n",
       ".xr-section-summary-in:disabled + label {\n",
       "  color: var(--xr-font-color2);\n",
       "}\n",
       "\n",
       ".xr-section-summary-in + label:before {\n",
       "  display: inline-block;\n",
       "  content: '►';\n",
       "  font-size: 11px;\n",
       "  width: 15px;\n",
       "  text-align: center;\n",
       "}\n",
       "\n",
       ".xr-section-summary-in:disabled + label:before {\n",
       "  color: var(--xr-disabled-color);\n",
       "}\n",
       "\n",
       ".xr-section-summary-in:checked + label:before {\n",
       "  content: '▼';\n",
       "}\n",
       "\n",
       ".xr-section-summary-in:checked + label > span {\n",
       "  display: none;\n",
       "}\n",
       "\n",
       ".xr-section-summary,\n",
       ".xr-section-inline-details {\n",
       "  padding-top: 4px;\n",
       "  padding-bottom: 4px;\n",
       "}\n",
       "\n",
       ".xr-section-inline-details {\n",
       "  grid-column: 2 / -1;\n",
       "}\n",
       "\n",
       ".xr-section-details {\n",
       "  display: none;\n",
       "  grid-column: 1 / -1;\n",
       "  margin-bottom: 5px;\n",
       "}\n",
       "\n",
       ".xr-section-summary-in:checked ~ .xr-section-details {\n",
       "  display: contents;\n",
       "}\n",
       "\n",
       ".xr-array-wrap {\n",
       "  grid-column: 1 / -1;\n",
       "  display: grid;\n",
       "  grid-template-columns: 20px auto;\n",
       "}\n",
       "\n",
       ".xr-array-wrap > label {\n",
       "  grid-column: 1;\n",
       "  vertical-align: top;\n",
       "}\n",
       "\n",
       ".xr-preview {\n",
       "  color: var(--xr-font-color3);\n",
       "}\n",
       "\n",
       ".xr-array-preview,\n",
       ".xr-array-data {\n",
       "  padding: 0 5px !important;\n",
       "  grid-column: 2;\n",
       "}\n",
       "\n",
       ".xr-array-data,\n",
       ".xr-array-in:checked ~ .xr-array-preview {\n",
       "  display: none;\n",
       "}\n",
       "\n",
       ".xr-array-in:checked ~ .xr-array-data,\n",
       ".xr-array-preview {\n",
       "  display: inline-block;\n",
       "}\n",
       "\n",
       ".xr-dim-list {\n",
       "  display: inline-block !important;\n",
       "  list-style: none;\n",
       "  padding: 0 !important;\n",
       "  margin: 0;\n",
       "}\n",
       "\n",
       ".xr-dim-list li {\n",
       "  display: inline-block;\n",
       "  padding: 0;\n",
       "  margin: 0;\n",
       "}\n",
       "\n",
       ".xr-dim-list:before {\n",
       "  content: '(';\n",
       "}\n",
       "\n",
       ".xr-dim-list:after {\n",
       "  content: ')';\n",
       "}\n",
       "\n",
       ".xr-dim-list li:not(:last-child):after {\n",
       "  content: ',';\n",
       "  padding-right: 5px;\n",
       "}\n",
       "\n",
       ".xr-has-index {\n",
       "  font-weight: bold;\n",
       "}\n",
       "\n",
       ".xr-var-list,\n",
       ".xr-var-item {\n",
       "  display: contents;\n",
       "}\n",
       "\n",
       ".xr-var-item > div,\n",
       ".xr-var-item label,\n",
       ".xr-var-item > .xr-var-name span {\n",
       "  background-color: var(--xr-background-color-row-even);\n",
       "  margin-bottom: 0;\n",
       "}\n",
       "\n",
       ".xr-var-item > .xr-var-name:hover span {\n",
       "  padding-right: 5px;\n",
       "}\n",
       "\n",
       ".xr-var-list > li:nth-child(odd) > div,\n",
       ".xr-var-list > li:nth-child(odd) > label,\n",
       ".xr-var-list > li:nth-child(odd) > .xr-var-name span {\n",
       "  background-color: var(--xr-background-color-row-odd);\n",
       "}\n",
       "\n",
       ".xr-var-name {\n",
       "  grid-column: 1;\n",
       "}\n",
       "\n",
       ".xr-var-dims {\n",
       "  grid-column: 2;\n",
       "}\n",
       "\n",
       ".xr-var-dtype {\n",
       "  grid-column: 3;\n",
       "  text-align: right;\n",
       "  color: var(--xr-font-color2);\n",
       "}\n",
       "\n",
       ".xr-var-preview {\n",
       "  grid-column: 4;\n",
       "}\n",
       "\n",
       ".xr-var-name,\n",
       ".xr-var-dims,\n",
       ".xr-var-dtype,\n",
       ".xr-preview,\n",
       ".xr-attrs dt {\n",
       "  white-space: nowrap;\n",
       "  overflow: hidden;\n",
       "  text-overflow: ellipsis;\n",
       "  padding-right: 10px;\n",
       "}\n",
       "\n",
       ".xr-var-name:hover,\n",
       ".xr-var-dims:hover,\n",
       ".xr-var-dtype:hover,\n",
       ".xr-attrs dt:hover {\n",
       "  overflow: visible;\n",
       "  width: auto;\n",
       "  z-index: 1;\n",
       "}\n",
       "\n",
       ".xr-var-attrs,\n",
       ".xr-var-data {\n",
       "  display: none;\n",
       "  background-color: var(--xr-background-color) !important;\n",
       "  padding-bottom: 5px !important;\n",
       "}\n",
       "\n",
       ".xr-var-attrs-in:checked ~ .xr-var-attrs,\n",
       ".xr-var-data-in:checked ~ .xr-var-data {\n",
       "  display: block;\n",
       "}\n",
       "\n",
       ".xr-var-data > table {\n",
       "  float: right;\n",
       "}\n",
       "\n",
       ".xr-var-name span,\n",
       ".xr-var-data,\n",
       ".xr-attrs {\n",
       "  padding-left: 25px !important;\n",
       "}\n",
       "\n",
       ".xr-attrs,\n",
       ".xr-var-attrs,\n",
       ".xr-var-data {\n",
       "  grid-column: 1 / -1;\n",
       "}\n",
       "\n",
       "dl.xr-attrs {\n",
       "  padding: 0;\n",
       "  margin: 0;\n",
       "  display: grid;\n",
       "  grid-template-columns: 125px auto;\n",
       "}\n",
       "\n",
       ".xr-attrs dt,\n",
       ".xr-attrs dd {\n",
       "  padding: 0;\n",
       "  margin: 0;\n",
       "  float: left;\n",
       "  padding-right: 10px;\n",
       "  width: auto;\n",
       "}\n",
       "\n",
       ".xr-attrs dt {\n",
       "  font-weight: normal;\n",
       "  grid-column: 1;\n",
       "}\n",
       "\n",
       ".xr-attrs dt:hover span {\n",
       "  display: inline-block;\n",
       "  background: var(--xr-background-color);\n",
       "  padding-right: 10px;\n",
       "}\n",
       "\n",
       ".xr-attrs dd {\n",
       "  grid-column: 2;\n",
       "  white-space: pre-wrap;\n",
       "  word-break: break-all;\n",
       "}\n",
       "\n",
       ".xr-icon-database,\n",
       ".xr-icon-file-text2 {\n",
       "  display: inline-block;\n",
       "  vertical-align: middle;\n",
       "  width: 1em;\n",
       "  height: 1.5em !important;\n",
       "  stroke-width: 0;\n",
       "  stroke: currentColor;\n",
       "  fill: currentColor;\n",
       "}\n",
       "</style><pre class='xr-text-repr-fallback'>&lt;xarray.DataArray &#x27;PM25&#x27; (Time: 133, bottom_top: 39, south_north: 159,\n",
       "                          west_east: 169)&gt;\n",
       "[139379877 values with dtype=float32]\n",
       "Coordinates:\n",
       "    XLAT     (Time, south_north, west_east) float32 ...\n",
       "    XLONG    (Time, south_north, west_east) float32 ...\n",
       "Dimensions without coordinates: Time, bottom_top, south_north, west_east\n",
       "Attributes:\n",
       "    MemoryOrder:  XYZ\n",
       "    description:  PM25, total mass\n",
       "    units:        kg m^-3\n",
       "    coordinates:  XLONG XLAT XTIME</pre><div class='xr-wrap' style='display:none'><div class='xr-header'><div class='xr-obj-type'>xarray.DataArray</div><div class='xr-array-name'>'PM25'</div><ul class='xr-dim-list'><li><span>Time</span>: 133</li><li><span>bottom_top</span>: 39</li><li><span>south_north</span>: 159</li><li><span>west_east</span>: 169</li></ul></div><ul class='xr-sections'><li class='xr-section-item'><div class='xr-array-wrap'><input id='section-1e269bb4-f121-495e-9758-e862cef8b37d' class='xr-array-in' type='checkbox' checked><label for='section-1e269bb4-f121-495e-9758-e862cef8b37d' title='Show/hide data repr'><svg class='icon xr-icon-database'><use xlink:href='#icon-database'></use></svg></label><div class='xr-array-preview xr-preview'><span>...</span></div><div class='xr-array-data'><pre>[139379877 values with dtype=float32]</pre></div></div></li><li class='xr-section-item'><input id='section-99a2fc7b-a7ab-4bf6-a56f-412e64f4d192' class='xr-section-summary-in' type='checkbox'  checked><label for='section-99a2fc7b-a7ab-4bf6-a56f-412e64f4d192' class='xr-section-summary' >Coordinates: <span>(2)</span></label><div class='xr-section-inline-details'></div><div class='xr-section-details'><ul class='xr-var-list'><li class='xr-var-item'><div class='xr-var-name'><span>XLAT</span></div><div class='xr-var-dims'>(Time, south_north, west_east)</div><div class='xr-var-dtype'>float32</div><div class='xr-var-preview xr-preview'>...</div><input id='attrs-1bd35db8-f5f4-40ce-924e-3aa696ead08e' class='xr-var-attrs-in' type='checkbox' ><label for='attrs-1bd35db8-f5f4-40ce-924e-3aa696ead08e' title='Show/Hide attributes'><svg class='icon xr-icon-file-text2'><use xlink:href='#icon-file-text2'></use></svg></label><input id='data-a286029c-6013-4c4f-a7fa-12547704a088' class='xr-var-data-in' type='checkbox'><label for='data-a286029c-6013-4c4f-a7fa-12547704a088' title='Show/Hide data repr'><svg class='icon xr-icon-database'><use xlink:href='#icon-database'></use></svg></label><div class='xr-var-attrs'><dl class='xr-attrs'><dt><span>FieldType :</span></dt><dd>104</dd><dt><span>MemoryOrder :</span></dt><dd>XY </dd><dt><span>description :</span></dt><dd>LATITUDE, SOUTH IS NEGATIVE</dd><dt><span>units :</span></dt><dd>degree_north</dd><dt><span>stagger :</span></dt><dd></dd></dl></div><div class='xr-var-data'><pre>[3573843 values with dtype=float32]</pre></div></li><li class='xr-var-item'><div class='xr-var-name'><span>XLONG</span></div><div class='xr-var-dims'>(Time, south_north, west_east)</div><div class='xr-var-dtype'>float32</div><div class='xr-var-preview xr-preview'>...</div><input id='attrs-63a51cbc-4542-400f-a439-f4094f9c4991' class='xr-var-attrs-in' type='checkbox' ><label for='attrs-63a51cbc-4542-400f-a439-f4094f9c4991' title='Show/Hide attributes'><svg class='icon xr-icon-file-text2'><use xlink:href='#icon-file-text2'></use></svg></label><input id='data-d5e448a8-77b5-48fc-aeac-464541deff85' class='xr-var-data-in' type='checkbox'><label for='data-d5e448a8-77b5-48fc-aeac-464541deff85' title='Show/Hide data repr'><svg class='icon xr-icon-database'><use xlink:href='#icon-database'></use></svg></label><div class='xr-var-attrs'><dl class='xr-attrs'><dt><span>FieldType :</span></dt><dd>104</dd><dt><span>MemoryOrder :</span></dt><dd>XY </dd><dt><span>description :</span></dt><dd>LONGITUDE, WEST IS NEGATIVE</dd><dt><span>units :</span></dt><dd>degree_east</dd><dt><span>stagger :</span></dt><dd></dd></dl></div><div class='xr-var-data'><pre>[3573843 values with dtype=float32]</pre></div></li></ul></div></li><li class='xr-section-item'><input id='section-2ba6afe1-1b99-495a-bad1-bed57409d183' class='xr-section-summary-in' type='checkbox'  checked><label for='section-2ba6afe1-1b99-495a-bad1-bed57409d183' class='xr-section-summary' >Attributes: <span>(4)</span></label><div class='xr-section-inline-details'></div><div class='xr-section-details'><dl class='xr-attrs'><dt><span>MemoryOrder :</span></dt><dd>XYZ</dd><dt><span>description :</span></dt><dd>PM25, total mass</dd><dt><span>units :</span></dt><dd>kg m^-3</dd><dt><span>coordinates :</span></dt><dd>XLONG XLAT XTIME</dd></dl></div></li></ul></div></div>"
      ],
      "text/plain": [
       "<xarray.DataArray 'PM25' (Time: 133, bottom_top: 39, south_north: 159,\n",
       "                          west_east: 169)>\n",
       "[139379877 values with dtype=float32]\n",
       "Coordinates:\n",
       "    XLAT     (Time, south_north, west_east) float32 ...\n",
       "    XLONG    (Time, south_north, west_east) float32 ...\n",
       "Dimensions without coordinates: Time, bottom_top, south_north, west_east\n",
       "Attributes:\n",
       "    MemoryOrder:  XYZ\n",
       "    description:  PM25, total mass\n",
       "    units:        kg m^-3\n",
       "    coordinates:  XLONG XLAT XTIME"
      ]
     },
     "execution_count": 203,
     "metadata": {},
     "output_type": "execute_result"
    }
   ],
   "source": [
    "ds.ncf[f][]"
   ]
  },
  {
   "cell_type": "code",
   "execution_count": 7,
   "id": "685d829c-a9f1-45e9-b481-37936a65742b",
   "metadata": {},
   "outputs": [],
   "source": [
    "# Load netcdf file\n",
    "from netCDF4 import Dataset\n",
    "import numpy as np\n",
    "data_dir = './'\n",
    "wrf_filename = '%straining.nc' % data_dir\n",
    "ncf = Dataset(wrf_filename, \"r\", format=\"NETCDF4\")\n",
    "\n",
    "time_axis = [\"\".join( ncf.variables['Times'][i].data.astype(str))[-8:] for i in range(133)]\n",
    "hrs  = [float(time_axis[i].split(\":\")[0]) for i in range(len(time_axis))]\n",
    "mins_in_hrs = [float(time_axis[i].split(\":\")[1])/60 for i in range(len(time_axis))]\n",
    "\n",
    "timestamp_hrs = np.array([(h+m)/24 for h,m in zip(hrs, mins_in_hrs)])\n",
    "time_embed = np.cos(timestamp_hrs*np.pi*2)"
   ]
  },
  {
   "cell_type": "code",
   "execution_count": 15,
   "id": "266d1a48-b9be-446c-97c3-08d93cea806d",
   "metadata": {},
   "outputs": [
    {
     "data": {
      "text/plain": [
       "(1047969,)"
      ]
     },
     "execution_count": 15,
     "metadata": {},
     "output_type": "execute_result"
    }
   ],
   "source": [
    "ds_training[feat_cols[0]][0,...].data.flatten().shape"
   ]
  },
  {
   "cell_type": "code",
   "execution_count": 8,
   "id": "94fcae6b-6b4c-493e-a79a-969c17c36689",
   "metadata": {},
   "outputs": [],
   "source": [
    "!mkdir time_embed_data"
   ]
  },
  {
   "cell_type": "code",
   "execution_count": 18,
   "id": "1f8439db-0ccc-4768-b7f3-6200424c439b",
   "metadata": {},
   "outputs": [],
   "source": [
    "for i in range(133):\n",
    "    tmp = []\n",
    "    for f in feat_cols:\n",
    "        tmp.append(ds_training[f][i,...].data.flatten())\n",
    "    tmp.append(np.ones_like(ds_training[f][i,...].data.flatten())* time_embed[i])\n",
    "    np.save(f'time_embed_data/t{i}_feat.npy', np.vstack(tmp).transpose())"
   ]
  },
  {
   "cell_type": "code",
   "execution_count": 20,
   "id": "d70d4a5e-6fe0-44ca-b4f9-90dd0a6f4e80",
   "metadata": {},
   "outputs": [],
   "source": [
    "for i in range(133):\n",
    "    tmp = []\n",
    "    for f in target_cols:\n",
    "        tmp.append(ds_training[f][i,...].data.flatten())\n",
    "    np.save(f'time_embed_data/t{i}_targ.npy', np.vstack(tmp).transpose())"
   ]
  },
  {
   "cell_type": "code",
   "execution_count": 227,
   "id": "c47f64af-ee81-4fa0-91a1-74152787ac52",
   "metadata": {},
   "outputs": [],
   "source": []
  },
  {
   "cell_type": "code",
   "execution_count": 220,
   "id": "ca5b9a5f-630c-4825-a167-5fd1c57c62b7",
   "metadata": {},
   "outputs": [
    {
     "data": {
      "text/html": [
       "<div>\n",
       "<style scoped>\n",
       "    .dataframe tbody tr th:only-of-type {\n",
       "        vertical-align: middle;\n",
       "    }\n",
       "\n",
       "    .dataframe tbody tr th {\n",
       "        vertical-align: top;\n",
       "    }\n",
       "\n",
       "    .dataframe thead th {\n",
       "        text-align: right;\n",
       "    }\n",
       "</style>\n",
       "<table border=\"1\" class=\"dataframe\">\n",
       "  <thead>\n",
       "    <tr style=\"text-align: right;\">\n",
       "      <th></th>\n",
       "      <th>ccn_001</th>\n",
       "      <th>ccn_003</th>\n",
       "      <th>ccn_006</th>\n",
       "      <th>CHI</th>\n",
       "      <th>CHI_CCN</th>\n",
       "      <th>D_ALPHA</th>\n",
       "      <th>D_GAMMA</th>\n",
       "      <th>D_ALPHA_CCN</th>\n",
       "      <th>D_GAMMA_CCN</th>\n",
       "      <th>PM25</th>\n",
       "    </tr>\n",
       "  </thead>\n",
       "  <tbody>\n",
       "    <tr>\n",
       "      <th>ccn_001</th>\n",
       "      <td>1.000000</td>\n",
       "      <td>0.931942</td>\n",
       "      <td>0.878823</td>\n",
       "      <td>-0.017472</td>\n",
       "      <td>-0.163787</td>\n",
       "      <td>0.343573</td>\n",
       "      <td>0.357511</td>\n",
       "      <td>-0.231737</td>\n",
       "      <td>-0.122894</td>\n",
       "      <td>0.735995</td>\n",
       "    </tr>\n",
       "    <tr>\n",
       "      <th>ccn_003</th>\n",
       "      <td>0.931942</td>\n",
       "      <td>1.000000</td>\n",
       "      <td>0.985097</td>\n",
       "      <td>-0.097920</td>\n",
       "      <td>-0.268909</td>\n",
       "      <td>0.433797</td>\n",
       "      <td>0.462196</td>\n",
       "      <td>-0.133836</td>\n",
       "      <td>0.021081</td>\n",
       "      <td>0.661639</td>\n",
       "    </tr>\n",
       "    <tr>\n",
       "      <th>ccn_006</th>\n",
       "      <td>0.878823</td>\n",
       "      <td>0.985097</td>\n",
       "      <td>1.000000</td>\n",
       "      <td>-0.129980</td>\n",
       "      <td>-0.312378</td>\n",
       "      <td>0.438712</td>\n",
       "      <td>0.476438</td>\n",
       "      <td>-0.129309</td>\n",
       "      <td>0.048147</td>\n",
       "      <td>0.639433</td>\n",
       "    </tr>\n",
       "    <tr>\n",
       "      <th>CHI</th>\n",
       "      <td>-0.017472</td>\n",
       "      <td>-0.097920</td>\n",
       "      <td>-0.129980</td>\n",
       "      <td>1.000000</td>\n",
       "      <td>0.685764</td>\n",
       "      <td>-0.307690</td>\n",
       "      <td>-0.479376</td>\n",
       "      <td>0.067522</td>\n",
       "      <td>-0.213222</td>\n",
       "      <td>0.173920</td>\n",
       "    </tr>\n",
       "    <tr>\n",
       "      <th>CHI_CCN</th>\n",
       "      <td>-0.163787</td>\n",
       "      <td>-0.268909</td>\n",
       "      <td>-0.312378</td>\n",
       "      <td>0.685764</td>\n",
       "      <td>1.000000</td>\n",
       "      <td>-0.132114</td>\n",
       "      <td>-0.274026</td>\n",
       "      <td>0.146654</td>\n",
       "      <td>-0.255448</td>\n",
       "      <td>0.035312</td>\n",
       "    </tr>\n",
       "    <tr>\n",
       "      <th>D_ALPHA</th>\n",
       "      <td>0.343573</td>\n",
       "      <td>0.433797</td>\n",
       "      <td>0.438712</td>\n",
       "      <td>-0.307690</td>\n",
       "      <td>-0.132114</td>\n",
       "      <td>1.000000</td>\n",
       "      <td>0.976192</td>\n",
       "      <td>0.615468</td>\n",
       "      <td>0.681524</td>\n",
       "      <td>-0.020273</td>\n",
       "    </tr>\n",
       "    <tr>\n",
       "      <th>D_GAMMA</th>\n",
       "      <td>0.357511</td>\n",
       "      <td>0.462196</td>\n",
       "      <td>0.476438</td>\n",
       "      <td>-0.479376</td>\n",
       "      <td>-0.274026</td>\n",
       "      <td>0.976192</td>\n",
       "      <td>1.000000</td>\n",
       "      <td>0.521888</td>\n",
       "      <td>0.653417</td>\n",
       "      <td>-0.002380</td>\n",
       "    </tr>\n",
       "    <tr>\n",
       "      <th>D_ALPHA_CCN</th>\n",
       "      <td>-0.231737</td>\n",
       "      <td>-0.133836</td>\n",
       "      <td>-0.129309</td>\n",
       "      <td>0.067522</td>\n",
       "      <td>0.146654</td>\n",
       "      <td>0.615468</td>\n",
       "      <td>0.521888</td>\n",
       "      <td>1.000000</td>\n",
       "      <td>0.911623</td>\n",
       "      <td>-0.474397</td>\n",
       "    </tr>\n",
       "    <tr>\n",
       "      <th>D_GAMMA_CCN</th>\n",
       "      <td>-0.122894</td>\n",
       "      <td>0.021081</td>\n",
       "      <td>0.048147</td>\n",
       "      <td>-0.213222</td>\n",
       "      <td>-0.255448</td>\n",
       "      <td>0.681524</td>\n",
       "      <td>0.653417</td>\n",
       "      <td>0.911623</td>\n",
       "      <td>1.000000</td>\n",
       "      <td>-0.421686</td>\n",
       "    </tr>\n",
       "    <tr>\n",
       "      <th>PM25</th>\n",
       "      <td>0.735995</td>\n",
       "      <td>0.661639</td>\n",
       "      <td>0.639433</td>\n",
       "      <td>0.173920</td>\n",
       "      <td>0.035312</td>\n",
       "      <td>-0.020273</td>\n",
       "      <td>-0.002380</td>\n",
       "      <td>-0.474397</td>\n",
       "      <td>-0.421686</td>\n",
       "      <td>1.000000</td>\n",
       "    </tr>\n",
       "  </tbody>\n",
       "</table>\n",
       "</div>"
      ],
      "text/plain": [
       "              ccn_001   ccn_003   ccn_006       CHI   CHI_CCN   D_ALPHA  \\\n",
       "ccn_001      1.000000  0.931942  0.878823 -0.017472 -0.163787  0.343573   \n",
       "ccn_003      0.931942  1.000000  0.985097 -0.097920 -0.268909  0.433797   \n",
       "ccn_006      0.878823  0.985097  1.000000 -0.129980 -0.312378  0.438712   \n",
       "CHI         -0.017472 -0.097920 -0.129980  1.000000  0.685764 -0.307690   \n",
       "CHI_CCN     -0.163787 -0.268909 -0.312378  0.685764  1.000000 -0.132114   \n",
       "D_ALPHA      0.343573  0.433797  0.438712 -0.307690 -0.132114  1.000000   \n",
       "D_GAMMA      0.357511  0.462196  0.476438 -0.479376 -0.274026  0.976192   \n",
       "D_ALPHA_CCN -0.231737 -0.133836 -0.129309  0.067522  0.146654  0.615468   \n",
       "D_GAMMA_CCN -0.122894  0.021081  0.048147 -0.213222 -0.255448  0.681524   \n",
       "PM25         0.735995  0.661639  0.639433  0.173920  0.035312 -0.020273   \n",
       "\n",
       "              D_GAMMA  D_ALPHA_CCN  D_GAMMA_CCN      PM25  \n",
       "ccn_001      0.357511    -0.231737    -0.122894  0.735995  \n",
       "ccn_003      0.462196    -0.133836     0.021081  0.661639  \n",
       "ccn_006      0.476438    -0.129309     0.048147  0.639433  \n",
       "CHI         -0.479376     0.067522    -0.213222  0.173920  \n",
       "CHI_CCN     -0.274026     0.146654    -0.255448  0.035312  \n",
       "D_ALPHA      0.976192     0.615468     0.681524 -0.020273  \n",
       "D_GAMMA      1.000000     0.521888     0.653417 -0.002380  \n",
       "D_ALPHA_CCN  0.521888     1.000000     0.911623 -0.474397  \n",
       "D_GAMMA_CCN  0.653417     0.911623     1.000000 -0.421686  \n",
       "PM25        -0.002380    -0.474397    -0.421686  1.000000  "
      ]
     },
     "execution_count": 220,
     "metadata": {},
     "output_type": "execute_result"
    }
   ],
   "source": [
    "import pandas as pd\n",
    "# import seaborn as sns\n",
    "\n",
    "pd.DataFrame(out, columns=target_cols).corr()"
   ]
  },
  {
   "cell_type": "code",
   "execution_count": 105,
   "id": "05069e8d-c8c0-4480-a2f3-d829803cabd8",
   "metadata": {},
   "outputs": [],
   "source": [
    "ridx = np.random.randint(0,1047969,32)"
   ]
  },
  {
   "cell_type": "code",
   "execution_count": 116,
   "id": "7f2c760d-f7cb-4e8b-9bb9-6b28bb378ac9",
   "metadata": {},
   "outputs": [
    {
     "data": {
      "text/plain": [
       "4000"
      ]
     },
     "execution_count": 116,
     "metadata": {},
     "output_type": "execute_result"
    }
   ],
   "source": [
    "40*100"
   ]
  },
  {
   "cell_type": "code",
   "execution_count": 121,
   "id": "ba075972-1c4a-49bb-b298-c580b4bdee49",
   "metadata": {},
   "outputs": [],
   "source": [
    "from torch.utils.data import TensorDataset\n",
    "import torch"
   ]
  },
  {
   "cell_type": "code",
   "execution_count": 122,
   "id": "97f17280-6b10-4d98-9c1b-6500f87d02b5",
   "metadata": {},
   "outputs": [],
   "source": [
    "feats = np.load('t0_feat.npy')\n",
    "targs = np.load('t0_targ.npy')"
   ]
  },
  {
   "cell_type": "code",
   "execution_count": 204,
   "id": "eca162cc-a53d-486a-aa52-14c6e1fcd1b8",
   "metadata": {},
   "outputs": [
    {
     "data": {
      "text/plain": [
       "(1047969, 100)"
      ]
     },
     "execution_count": 204,
     "metadata": {},
     "output_type": "execute_result"
    }
   ],
   "source": [
    "feats.shape"
   ]
  },
  {
   "cell_type": "code",
   "execution_count": 123,
   "id": "5908b6ea-c94b-4683-9970-19c6204c3997",
   "metadata": {},
   "outputs": [],
   "source": [
    "tds = TensorDataset( torch.from_numpy(feats), torch.from_numpy(targs) )"
   ]
  },
  {
   "cell_type": "code",
   "execution_count": 147,
   "id": "6742fbfe-e435-44ec-945c-91a4f722ba6e",
   "metadata": {},
   "outputs": [],
   "source": [
    "means = {}\n",
    "stds  = {}\n",
    "mins  = {}\n",
    "for i, f in enumerate(feat_cols):\n",
    "    tmp = feats[:,i]\n",
    "    d = tmp[tmp>0]\n",
    "    means[f] = np.log(d).mean()\n",
    "    stds[f]  = np.log(d).std()\n",
    "    \n",
    "    mins[f] = np.exp(np.log(d).min())\n",
    "    \n",
    "for i, f in enumerate(target_cols):\n",
    "    tmp = targs[:,i]\n",
    "    d = tmp[tmp>0]\n",
    "    means[f] = np.log(d).mean()\n",
    "    stds[f]  = np.log(d).std()\n",
    "    \n",
    "    mins[f] = np.exp(np.log(d).min())\n",
    "\n",
    "feat_mean_list = torch.from_numpy(np.array([means[f] for f in feat_cols]))\n",
    "feat_std_list = torch.from_numpy(np.array([stds[f] for f in feat_cols]))\n",
    "feat_min_list = torch.from_numpy(np.array([mins[f] for f in feat_cols]))\n",
    "\n",
    "targ_mean_list = torch.from_numpy(np.array([means[f] for f in target_cols]))\n",
    "targ_std_list = torch.from_numpy(np.array([stds[f] for f in target_cols]))\n",
    "targ_min_list = torch.from_numpy(np.array([mins[f] for f in target_cols]))"
   ]
  },
  {
   "cell_type": "code",
   "execution_count": 148,
   "id": "52ff0f1a-9d7b-4335-a956-fe91f020ceb6",
   "metadata": {},
   "outputs": [
    {
     "data": {
      "text/plain": [
       "tensor([ 18.3412, -22.1450, -22.9682, -34.2544, -67.2179, -35.4954, -47.4209,\n",
       "        -49.5522, -42.6411, -47.1696, -25.1341, -58.5334, -58.0795, -58.2384,\n",
       "        -24.7795, -25.5289, -23.3483,   5.5045,  -1.5787,   0.8495,   8.6020,\n",
       "        -10.4790,  -1.6457, -30.5257, -15.5252,  -3.0493,  -3.1118, -12.9695,\n",
       "         -9.1049,  -8.4593,  -4.6355,   4.7527, -26.0608, -12.8952,  -8.7799,\n",
       "         -5.4120,  -1.4715,   4.2199,  -6.5071, -26.5848, -25.2973, -14.3721,\n",
       "        -26.6392,  -4.1990, -15.8800, -27.3723, -12.4017, -23.0230, -16.1754,\n",
       "        -18.5365, -12.5285, -15.0489,  -2.4228, -27.5092, -28.3856, -23.7684,\n",
       "        -27.4414, -17.4906, -36.7175, -36.6878, -36.5561, -19.5772, -19.7742,\n",
       "        -11.2861,  -8.3644, -27.7195, -29.6143, -26.8391, -28.1484, -28.7525,\n",
       "        -29.5755, -31.3890, -28.1026, -20.8438, -19.5698, -23.1247, -26.2996,\n",
       "        -25.8858, -18.8093, -20.9491, -26.4075, -14.3241, -28.3505, -31.5561,\n",
       "        -25.4605, -36.8598, -36.8948, -36.8413, -36.8360, -36.8414, -36.8408,\n",
       "        -36.8408, -36.8467, -36.8476, -36.8451, -36.8468, -36.8493, -31.3826,\n",
       "          5.6986,  10.3051])"
      ]
     },
     "execution_count": 148,
     "metadata": {},
     "output_type": "execute_result"
    }
   ],
   "source": [
    "feat_mean_list"
   ]
  },
  {
   "cell_type": "code",
   "execution_count": 133,
   "id": "b2a0871c-3cc9-4115-bcdc-45965006fa0d",
   "metadata": {},
   "outputs": [
    {
     "data": {
      "text/plain": [
       "tensor([ 3.1084,  2.0410,  3.0326,    -inf,    -inf,    -inf,    -inf,    -inf,\n",
       "           -inf,    -inf,  2.2685,    -inf,    -inf,    -inf,  1.1498,  1.5756,\n",
       "           -inf,  1.2864,  2.1053, -1.2878, -4.0542,  0.7837, -0.1046, -0.6235,\n",
       "         0.9626, -0.0274,  0.4711,  0.8871, -0.8522,  0.4350, -1.0270, -1.0865,\n",
       "        -1.0651, -0.8522,  0.0780,  0.2847,  0.7023,  0.7970,  2.0737, -0.7312,\n",
       "         0.1211,  0.9427,  0.8729,  1.4956,  0.3374, -0.7101,  0.6330,  0.6013,\n",
       "         0.7195,  0.6172,  0.5611,  0.9361,  0.3940, -0.8264, -0.7747,  0.3749,\n",
       "        -0.6534,  1.1781, -0.4706, -0.5042, -0.5629,  0.6995,  0.8750,  1.4093,\n",
       "         0.8740, -0.6975, -0.6156, -0.8115, -0.7560, -0.7437, -0.7087, -0.6198,\n",
       "        -0.7138,  0.8024,  0.9217,  0.8628,  0.8739,  0.8081,  0.9104,  0.8516,\n",
       "         1.5212,  0.9953,  1.5792,  1.5050,  1.3188,  0.4801,  0.4765, -0.0823,\n",
       "        -0.0643,  0.0084, -0.0473, -0.0479,  0.0249,  0.0251,  0.0233,  0.0251,\n",
       "         0.0244, -0.6073,  1.2655,  1.3057])"
      ]
     },
     "execution_count": 133,
     "metadata": {},
     "output_type": "execute_result"
    }
   ],
   "source": [
    "(tds[0][0].log() - feat_mean_list) / feat_std_list"
   ]
  },
  {
   "cell_type": "code",
   "execution_count": 150,
   "id": "2ed1d56e-e403-4479-a355-1a98a11fc565",
   "metadata": {},
   "outputs": [],
   "source": [
    "X = tds[0][0]\n",
    "\n",
    "dl =torch.utils.data.DataLoader(tds, batch_size=32, shuffle=True)\n",
    "\n"
   ]
  },
  {
   "cell_type": "code",
   "execution_count": 152,
   "id": "5b8e51be-1817-40a0-84fd-684e821485c5",
   "metadata": {},
   "outputs": [],
   "source": [
    "X, y = next(iter(dl))"
   ]
  },
  {
   "cell_type": "code",
   "execution_count": 157,
   "id": "2266a0db-3e5a-4595-b926-9040116a503e",
   "metadata": {},
   "outputs": [
    {
     "data": {
      "text/plain": [
       "(torch.Size([100]), torch.Size([32, 100]))"
      ]
     },
     "execution_count": 157,
     "metadata": {},
     "output_type": "execute_result"
    }
   ],
   "source": [
    "feat_mean_list.shape, X.shape"
   ]
  },
  {
   "cell_type": "code",
   "execution_count": 185,
   "id": "317e282b-5281-41fd-902c-c0629e6893e5",
   "metadata": {},
   "outputs": [],
   "source": [
    "padded = torch.where(X < feat_min_list.unsqueeze(0), feat_min_list.unsqueeze(0), X)\n",
    "\n",
    "Xpad_norm = (padded.log() - feat_mean_list)/ feat_std_list"
   ]
  },
  {
   "cell_type": "code",
   "execution_count": 186,
   "id": "dc6877a3-9b1c-429a-b17d-b746f2c0ca26",
   "metadata": {},
   "outputs": [
    {
     "data": {
      "text/plain": [
       "tensor([7.0935e+07, 1.3758e-10, 1.1464e-10, 1.1185e-22, 8.5731e-36, 1.7847e-26,\n",
       "        2.3761e-29, 2.2701e-29, 3.3750e-29, 2.1600e-29, 4.2616e-12, 2.4669e-29,\n",
       "        2.5750e-29, 2.5750e-29, 1.1290e-11, 7.3883e-12, 3.1711e-22, 2.6921e+02,\n",
       "        3.3047e-01, 1.3243e+00, 4.5590e+03, 1.0000e-16, 5.2718e-02, 1.0000e-16,\n",
       "        1.1329e-14, 9.8469e-03, 9.8521e-03, 7.3207e-07, 1.6618e-07, 1.0000e-16,\n",
       "        2.0205e-03, 3.7799e+01, 1.0000e-16, 1.0000e-16, 1.0000e-16, 1.0000e-16,\n",
       "        1.6495e+00, 9.1820e+01, 1.7016e-04, 1.0000e-16, 1.0000e-16, 1.0000e-16,\n",
       "        1.0000e-16, 1.8324e-01, 1.0000e-16, 1.0000e-16, 1.0000e-16, 1.0000e-16,\n",
       "        1.0000e-16, 1.0000e-16, 1.0000e-16, 1.0000e-16, 1.1148e-01, 1.0000e-16,\n",
       "        1.0000e-16, 1.0000e-16, 1.0000e-16, 1.0000e-16, 1.0000e-16, 1.0000e-16,\n",
       "        1.0000e-16, 1.0000e-16, 1.0000e-16, 2.7423e-04, 5.6835e-05, 1.0000e-16,\n",
       "        1.0000e-16, 1.0000e-16, 1.0000e-16, 1.0000e-16, 1.0000e-16, 1.0000e-16,\n",
       "        1.0000e-16, 1.0000e-16, 1.0000e-16, 1.0000e-16, 1.0000e-16, 1.0000e-16,\n",
       "        1.0000e-16, 1.0000e-16, 1.0000e-16, 4.2625e-05, 1.0000e-16, 1.0000e-16,\n",
       "        1.0000e-16, 1.0000e-16, 1.0000e-16, 1.0000e-16, 1.0000e-16, 1.0000e-16,\n",
       "        1.0000e-16, 1.0000e-16, 1.0000e-16, 1.0000e-16, 1.0000e-16, 1.0000e-16,\n",
       "        1.0000e-16, 1.0000e-16, 9.9955e+02, 5.7495e+04])"
      ]
     },
     "execution_count": 186,
     "metadata": {},
     "output_type": "execute_result"
    }
   ],
   "source": [
    "padded[7]"
   ]
  },
  {
   "cell_type": "code",
   "execution_count": 187,
   "id": "21117888-ffd6-48c0-9e73-eb8928346c32",
   "metadata": {},
   "outputs": [
    {
     "data": {
      "text/plain": [
       "tensor([-3.7181e-01, -5.2463e-01,  8.1649e-02, -4.7173e+00, -1.2661e+00,\n",
       "        -2.3137e+00, -1.4520e+00, -1.4442e+00, -1.8356e+00, -1.3992e+00,\n",
       "        -1.4333e+00, -4.6390e+00, -3.8346e+00, -4.1268e+00, -4.2194e-01,\n",
       "        -1.0362e-01, -2.0233e+01,  7.4510e-01,  6.7880e-01, -7.0241e-01,\n",
       "        -1.3670e-01, -7.1179e+00, -9.5014e-01, -6.2355e-01, -1.6974e+00,\n",
       "        -1.2110e+00, -1.1016e+00, -7.7145e-01, -1.4573e+00, -8.8401e+00,\n",
       "        -9.8024e-01, -8.8463e-01, -4.5833e+00, -6.5522e+00, -9.2605e+00,\n",
       "        -9.1743e+00,  1.0297e+00,  4.9452e-01, -1.0048e+00, -7.3124e-01,\n",
       "        -9.3434e-01, -3.3148e+00, -8.6796e-01,  1.2422e+00, -1.7256e+00,\n",
       "        -7.1012e-01, -3.0034e+00, -1.1931e+00, -1.7161e+00, -1.5444e+00,\n",
       "        -2.8770e+00, -3.1739e+00,  1.8731e-01, -8.2638e-01, -7.7474e-01,\n",
       "        -1.1076e+00, -8.1657e-01, -2.2995e+00, -4.7060e-01, -5.0417e-01,\n",
       "        -5.6293e-01, -1.2515e+00, -1.2994e+00,  7.4459e-01, -2.4016e-01,\n",
       "        -6.9752e-01, -6.1556e-01, -8.1152e-01, -7.5602e-01, -7.4366e-01,\n",
       "        -7.0868e-01, -6.1983e-01, -7.7462e-01, -1.2363e+00, -1.3019e+00,\n",
       "        -1.1688e+00, -1.0125e+00, -1.0187e+00, -1.5931e+00, -1.3707e+00,\n",
       "        -8.4035e-01,  4.4530e-01, -7.5562e-01, -6.4363e-01, -9.4699e-01,\n",
       "         4.8007e-01,  4.7650e-01, -8.2252e-02, -6.4270e-02,  8.3851e-03,\n",
       "        -4.7337e-02, -4.7872e-02,  2.4924e-02,  2.5135e-02,  2.3307e-02,\n",
       "         2.5080e-02,  2.4411e-02, -6.0727e-01,  8.2299e-01,  7.0935e-01])"
      ]
     },
     "execution_count": 187,
     "metadata": {},
     "output_type": "execute_result"
    }
   ],
   "source": [
    "Xpad_norm[7]"
   ]
  },
  {
   "cell_type": "code",
   "execution_count": 188,
   "id": "4221cc52-b864-4fd2-854b-a888540864ad",
   "metadata": {},
   "outputs": [],
   "source": [
    "import torch.nn as nn\n",
    "from collections import OrderedDict"
   ]
  },
  {
   "cell_type": "code",
   "execution_count": 200,
   "id": "016f9447-1a44-4c82-b488-c966f939dcf2",
   "metadata": {},
   "outputs": [],
   "source": [
    "class SimpleMLP(torch.nn.Module):\n",
    "    def __init__(self, ninputs=100, nhidden=256, nouts=10, activations='ELU'):\n",
    "        super().__init__()\n",
    "        self.layers = OrderedDict([\n",
    "            ('linear1', nn.Linear(ninputs,nhidden)),\n",
    "            ('act1', nn.ELU()),\n",
    "            ('linear2', nn.Linear(nhidden,nhidden)),\n",
    "            ('act2', nn.ELU()),\n",
    "            ('linear3', nn.Linear(nhidden,nhidden)),\n",
    "            ('act3', nn.ELU()),\n",
    "            ('linear4', nn.Linear(nhidden,nouts)),\n",
    "        ])\n",
    "        self.net = torch.nn.Sequential(self.layers)\n",
    "    \n",
    "    def forward(self, x):\n",
    "        return self.net(x)\n",
    "        "
   ]
  },
  {
   "cell_type": "code",
   "execution_count": 224,
   "id": "76993083-9eeb-455e-8063-213a907c4744",
   "metadata": {},
   "outputs": [
    {
     "data": {
      "text/plain": [
       "32750"
      ]
     },
     "execution_count": 224,
     "metadata": {},
     "output_type": "execute_result"
    }
   ],
   "source": [
    "len(dl)"
   ]
  },
  {
   "cell_type": "code",
   "execution_count": 230,
   "id": "ab8fdd6e-2238-4600-b8aa-9f4ae0872fbc",
   "metadata": {},
   "outputs": [
    {
     "name": "stdout",
     "output_type": "stream",
     "text": [
      "0.0\n",
      "0.048851978505129456\n",
      "0.09770395701025891\n",
      "0.14655593551538837\n",
      "0.19540791402051783\n",
      "0.24425989252564728\n",
      "0.29311187103077674\n",
      "0.3419638495359062\n",
      "0.39081582804103565\n",
      "0.4396678065461651\n",
      "0.48851978505129456\n",
      "0.537371763556424\n",
      "0.5862237420615535\n",
      "0.6350757205666829\n",
      "0.6839276990718124\n",
      "0.7327796775769418\n",
      "0.7816316560820713\n",
      "0.8304836345872008\n",
      "0.8793356130923302\n",
      "0.9281875915974597\n",
      "0.9770395701025891\n",
      "0.04482922329224781\n"
     ]
    }
   ],
   "source": [
    "dl =torch.utils.data.DataLoader(tds, batch_size=512, shuffle=True)\n",
    "\n",
    "net = SimpleMLP()\n",
    "\n",
    "def loss_fn(ypred, y):\n",
    "    return ((ypred-y)**2).mean()\n",
    "\n",
    "optim = torch.optim.Adam(net.parameters())\n",
    "\n",
    "total_loss = 0\n",
    "count = 0\n",
    "for X, y in dl:\n",
    "    optim.zero_grad()\n",
    "\n",
    "    padded = torch.where(X < feat_min_list.unsqueeze(0), feat_min_list.unsqueeze(0), X)\n",
    "    Xpad_norm = (padded.log() - feat_mean_list)/ feat_std_list\n",
    "    \n",
    "    padded = torch.where(y < targ_min_list.unsqueeze(0), targ_min_list.unsqueeze(0), y)\n",
    "    ypad_norm = (padded.log() - targ_mean_list)/ targ_std_list\n",
    "    \n",
    "    ypred = net(Xpad_norm)\n",
    "    \n",
    "    loss = loss_fn(ypred, ypad_norm)\n",
    "    loss.backward()\n",
    "    optim.step()\n",
    "    \n",
    "    total_loss += loss.item()\n",
    "    \n",
    "    if count % 100 == 0:\n",
    "        print(count / len(dl))\n",
    "    count += 1\n",
    "    \n",
    "print(total_loss/ len(dl))"
   ]
  },
  {
   "cell_type": "code",
   "execution_count": 231,
   "id": "e147af67-4d34-43f8-8776-de272d77e01c",
   "metadata": {},
   "outputs": [
    {
     "data": {
      "text/plain": [
       "91.76542007923126"
      ]
     },
     "execution_count": 231,
     "metadata": {},
     "output_type": "execute_result"
    }
   ],
   "source": [
    "total_loss"
   ]
  },
  {
   "cell_type": "code",
   "execution_count": 229,
   "id": "daf4a713-83c4-4e0e-b654-0fc90d9d6a01",
   "metadata": {},
   "outputs": [
    {
     "data": {
      "text/plain": [
       "tensor(0.0180, grad_fn=<MeanBackward0>)"
      ]
     },
     "execution_count": 229,
     "metadata": {},
     "output_type": "execute_result"
    }
   ],
   "source": [
    "loss"
   ]
  },
  {
   "cell_type": "code",
   "execution_count": 233,
   "id": "e868aa28-05bc-4bd5-b716-7eb8fd4a73a5",
   "metadata": {},
   "outputs": [
    {
     "data": {
      "text/plain": [
       "1.0"
      ]
     },
     "execution_count": 233,
     "metadata": {},
     "output_type": "execute_result"
    }
   ],
   "source": [
    "count / len(dl)"
   ]
  },
  {
   "cell_type": "code",
   "execution_count": 234,
   "id": "4a910c6e-8522-4111-b781-c6ae2108d852",
   "metadata": {},
   "outputs": [],
   "source": [
    "\n",
    "from tkinter import *\n",
    "from tkinter import filedialog as fd\n",
    "import os\n",
    "from PIL import Image\n",
    "from tkinter import messagebox"
   ]
  },
  {
   "cell_type": "code",
   "execution_count": null,
   "id": "b35284b7-f0bf-401b-95a8-87b98a7db0a3",
   "metadata": {},
   "outputs": [],
   "source": []
  }
 ],
 "metadata": {
  "kernelspec": {
   "display_name": "torch",
   "language": "python",
   "name": "torch"
  },
  "language_info": {
   "codemirror_mode": {
    "name": "ipython",
    "version": 3
   },
   "file_extension": ".py",
   "mimetype": "text/x-python",
   "name": "python",
   "nbconvert_exporter": "python",
   "pygments_lexer": "ipython3",
   "version": "3.9.12"
  }
 },
 "nbformat": 4,
 "nbformat_minor": 5
}
