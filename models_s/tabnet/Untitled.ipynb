{
 "cells": [
  {
   "cell_type": "code",
   "execution_count": 3,
   "id": "2515d9ca-9977-4c1b-8210-6494e0037f75",
   "metadata": {},
   "outputs": [],
   "source": [
    "from tab_model import TabNetRegressor, TabModel\n",
    "import torch"
   ]
  },
  {
   "cell_type": "code",
   "execution_count": 4,
   "id": "c412136b-a89e-445c-bb38-59e2413a6b1c",
   "metadata": {},
   "outputs": [
    {
     "name": "stderr",
     "output_type": "stream",
     "text": [
      "/home/kwoksun2/hackathon_data/tabnet/abstract_model.py:75: UserWarning: Device used : cuda\n",
      "  warnings.warn(f\"Device used : {self.device}\")\n"
     ]
    }
   ],
   "source": [
    "clf = TabNetRegressor(\n",
    "    input_dim=100, \n",
    "    output_dim=3, \n",
    "    n_d=8, \n",
    "    n_a=8\n",
    ")"
   ]
  },
  {
   "cell_type": "code",
   "execution_count": 5,
   "id": "cc41cd13-96e6-4bc4-86eb-d7ab5fe1ee53",
   "metadata": {},
   "outputs": [],
   "source": [
    "clf._set_network()\n",
    "clf._update_network_params()"
   ]
  },
  {
   "cell_type": "code",
   "execution_count": 17,
   "id": "39cbec9e-e4c4-442c-91d0-69c00eead6d3",
   "metadata": {},
   "outputs": [
    {
     "name": "stdout",
     "output_type": "stream",
     "text": [
      "events.out.tfevents.1650874586.hal15.2809322.5\n"
     ]
    }
   ],
   "source": [
    "!ls ~/tabnet_tb1"
   ]
  },
  {
   "cell_type": "code",
   "execution_count": 16,
   "id": "10a1b3c8-5d72-4cbb-98f0-7786381e934c",
   "metadata": {},
   "outputs": [],
   "source": [
    "from torch.utils.tensorboard import SummaryWriter\n",
    "writer = SummaryWriter(log_dir='/home/kwoksun2/tabnet_tb1')\n",
    "writer.add_graph(clf.network, input_to_model= torch.randn(1,100).cuda())"
   ]
  },
  {
   "cell_type": "code",
   "execution_count": null,
   "id": "c68e391c-4040-4837-837b-baa61a0e85f1",
   "metadata": {},
   "outputs": [],
   "source": []
  }
 ],
 "metadata": {
  "kernelspec": {
   "display_name": "Python [conda env:opence-v1.5.1]",
   "language": "python",
   "name": "conda-env-opence-v1.5.1-py"
  },
  "language_info": {
   "codemirror_mode": {
    "name": "ipython",
    "version": 3
   },
   "file_extension": ".py",
   "mimetype": "text/x-python",
   "name": "python",
   "nbconvert_exporter": "python",
   "pygments_lexer": "ipython3",
   "version": "3.9.12"
  }
 },
 "nbformat": 4,
 "nbformat_minor": 5
}
